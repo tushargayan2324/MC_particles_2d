{
 "cells": [
  {
   "cell_type": "code",
   "execution_count": 1,
   "metadata": {},
   "outputs": [],
   "source": [
    "using Distributions\n",
    "using Plots\n",
    "using BenchmarkTools\n",
    "using Profile"
   ]
  },
  {
   "cell_type": "code",
   "execution_count": 2,
   "metadata": {},
   "outputs": [
    {
     "data": {
      "text/plain": [
       "energy (generic function with 1 method)"
      ]
     },
     "metadata": {},
     "output_type": "display_data"
    }
   ],
   "source": [
    "function energy(M) \n",
    "    e = 0\n",
    "    n = size(M)[1]\n",
    "    for i in 1:n #parallelize this \n",
    "        e += sum(M[i].^2)\n",
    "        for j in i+1:n #parallelize this \n",
    "            e += 1/sum((M[i] .- M[j]).^2)\n",
    "        end\n",
    "    end\n",
    "    return e\n",
    "end\n"
   ]
  },
  {
   "cell_type": "code",
   "execution_count": 3,
   "metadata": {},
   "outputs": [
    {
     "data": {
      "text/plain": [
       "monte (generic function with 1 method)"
      ]
     },
     "metadata": {},
     "output_type": "display_data"
    }
   ],
   "source": [
    "function monte(x,T,T0)\n",
    "    n = size(x)[1]\n",
    "    for i = 1:n # Cant be parallelized dependent loop\n",
    "        a = rand(1:n)\n",
    "        l = sqrt(T/T0)\n",
    "        dn = x[a] + rand(Uniform(-l, l), 2)\n",
    "        dE = sum(dn.^2) - sum(x[a].^2)\n",
    "    \n",
    "        for j = 1:n \n",
    "            if  j!=a  \n",
    "                dE += 1/sum((dn .- x[j]).^2) - 1/sum((x[a] .- x[j]).^2) #1/r^2\n",
    "                #dE += 1/sum(abs.(dn .- x[j])) - 1/sum(abs.(x[a] .- x[j]))\n",
    "            end\n",
    "        end\n",
    "\n",
    "        q = min(1,exp(-dE/T))\n",
    "        m = rand()\n",
    "            if q>m\n",
    "                x[a] = dn\n",
    "            end\n",
    "    end\n",
    "    return x\n",
    "end\n"
   ]
  },
  {
   "cell_type": "code",
   "execution_count": 6,
   "metadata": {},
   "outputs": [
    {
     "data": {
      "text/plain": [
       "monte_bounded (generic function with 1 method)"
      ]
     },
     "metadata": {},
     "output_type": "display_data"
    }
   ],
   "source": [
    "function monte_bounded(x,T,T0)\n",
    "    n = size(x)[1]\n",
    "    for i = 1:n # Cant be parallelized dependent loop\n",
    "        a = rand(1:n)\n",
    "        l = sqrt(T/T0)\n",
    "        dn = x[a] + rand(Uniform(-l, l), 2)\n",
    "        if abs(dn[1]) > 2 || abs(dn[2]) > 2\n",
    "            break\n",
    "        else\n",
    "            dE = sum(dn.^2) - sum(x[a].^2)\n",
    "            \n",
    "            for j = 1:n # Can be parallelized, maybe use the sum trick\n",
    "                if  j!=a  #remove this if branch and integrate into main code\n",
    "                    dE += 1/sum((dn .- x[j]).^2) - 1/sum((x[a] .- x[j]).^2) #1/r^2\n",
    "                    #dE += 1/sum(abs.(dn .- x[j])) - 1/sum(abs.(x[a] .- x[j]))\n",
    "                end\n",
    "\n",
    "            end\n",
    "            q = min(1,exp(-dE/T))\n",
    "            m = rand()\n",
    "                if q>m\n",
    "                    x[a] = dn\n",
    "                end\n",
    "        end\n",
    "    end\n",
    "    return x\n",
    "end\n"
   ]
  },
  {
   "cell_type": "code",
   "execution_count": 7,
   "metadata": {},
   "outputs": [
    {
     "data": {
      "text/plain": [
       "monte_new (generic function with 1 method)"
      ]
     },
     "metadata": {},
     "output_type": "display_data"
    }
   ],
   "source": [
    "function monte_new(x,T,T0)\n",
    "    n = size(x)[1]\n",
    "    @simd for i = 1:n # Cant be parallelized dependent loop\n",
    "        a = rand(1:n)\n",
    "        l = sqrt(T/T0)\n",
    "        dn = x[a] + rand(Uniform(-l, l), 2)\n",
    "        dE = sum(dn.^2) - sum(x[a].^2)\n",
    "    \n",
    "        @simd for j = 1:n # Can be parallelized, maybe use the sum trick\n",
    "            if  j!=a  #remove this if branch and integrate into main code\n",
    "            @inbounds  dE += 1/sum((dn .- x[j]).^2) - 1/sum((x[a] .- x[j]).^2)\n",
    "            end\n",
    "             \n",
    "        end\n",
    "        q = min(1,exp(-dE/T))\n",
    "        m = rand()\n",
    "            if q>m\n",
    "                x[a] = dn\n",
    "            end\n",
    "    end\n",
    "    return x\n",
    "end\n"
   ]
  },
  {
   "cell_type": "code",
   "execution_count": 8,
   "metadata": {},
   "outputs": [
    {
     "data": {
      "text/plain": [
       "monte_new_threaded (generic function with 1 method)"
      ]
     },
     "metadata": {},
     "output_type": "display_data"
    }
   ],
   "source": [
    "function monte_new_threaded(x,T,T0)\n",
    "    n = size(x)[1]\n",
    "    for i = 1:n # Cant be parallelized dependent loop\n",
    "        a = rand(1:n)\n",
    "        l = sqrt(T/T0)\n",
    "        dn = x[a] + rand(Uniform(-l, l), 2)\n",
    "        dE = sum(dn.^2) - sum(x[a].^2)\n",
    "\n",
    "        temp = zeros(Float64,Threads.nthreads())\n",
    "        Threads.@threads for j = 1:n \n",
    "            if  j!=a  \n",
    "            #@inbounds  dE += 1/sum((dn .- x[j]).^2) - 1/sum((x[a] .- x[j]).^2)\n",
    "            temp[Threads.threadid()] += 1/sum((dn .- x[j]).^2) - 1/sum((x[a] .- x[j]).^2)        \n",
    "            end\n",
    "    \n",
    "        end\n",
    "        dE += sum(temp)\n",
    "        q = min(1,exp(-dE/T))\n",
    "        m = rand()\n",
    "            if q>m\n",
    "                x[a] = dn\n",
    "            end\n",
    "    end\n",
    "    return x\n",
    "end\n"
   ]
  },
  {
   "cell_type": "code",
   "execution_count": 18,
   "metadata": {},
   "outputs": [
    {
     "data": {
      "text/plain": [
       "20-element Vector{Vector{Float64}}:\n",
       " [-1.1927850973430394, 2.1427265568866836]\n",
       " [-2.447259684182492, 0.8713927083589004]\n",
       " [-0.6087640321477605, -0.9178691036474333]\n",
       " [-0.2243376152859422, 0.06668359453132444]\n",
       " [4.435007702937009, -1.1170265348806883]\n",
       " [0.24663832931776564, -0.9953510477566612]\n",
       " [0.6468256164125654, -0.9194430578396755]\n",
       " [-0.9485694331639789, -0.309624114173789]\n",
       " [0.7874858095168067, -0.28479376060102]\n",
       " [0.5475842670214397, -0.27523886862593283]\n",
       " [-0.3220780106041874, -0.6597847835723378]\n",
       " [0.5566077048287448, 0.06081497053638829]\n",
       " [-2.2602766465421027, -0.8012131857961768]\n",
       " [0.7657304673851737, -1.2913413223065173]\n",
       " [-2.014901508779258, -1.1411721469799199]\n",
       " [-2.6248041305581875, -1.0773993767656975]\n",
       " [-0.05335581320274607, -0.32665692417985803]\n",
       " [2.18621484479453, 2.538059149747395]\n",
       " [-0.30244838321813705, -0.4715164759938948]\n",
       " [-0.20699104252809208, 0.4621688407544058]"
      ]
     },
     "metadata": {},
     "output_type": "display_data"
    }
   ],
   "source": [
    "x = [rand(Uniform(-1, 1), 2) for i in 1:20 ] #list of all particles\n",
    "    \n",
    "@profile monte(x,10,1)"
   ]
  },
  {
   "cell_type": "code",
   "execution_count": 35,
   "metadata": {},
   "outputs": [],
   "source": [
    "Profile.Allocs.clear()"
   ]
  },
  {
   "cell_type": "code",
   "execution_count": 36,
   "metadata": {},
   "outputs": [],
   "source": [
    "using PProf"
   ]
  },
  {
   "cell_type": "code",
   "execution_count": 37,
   "metadata": {},
   "outputs": [
    {
     "data": {
      "text/plain": [
       "20-element Vector{Vector{Float64}}:\n",
       " [0.3464611513041602, 3.163485367266885]\n",
       " [-2.797671122581995, 3.6866233264512855]\n",
       " [2.624128893536912, 4.2372573334496915]\n",
       " [-0.44738763032162154, 2.255844712677268]\n",
       " [3.7562289215080975, -1.2076038017204778]\n",
       " [0.7406416073720097, 1.5755787380004156]\n",
       " [-0.6318768568629844, 2.0922941514534155]\n",
       " [-1.5928691678408957, 0.5952116865935462]\n",
       " [-3.9658380869867753, -1.8608100498001172]\n",
       " [2.2795800505169863, 0.7346698407016183]\n",
       " [2.604664309833181, -2.0851850616031493]\n",
       " [0.5566077048287448, 0.06081497053638829]\n",
       " [-1.360616556201723, 0.961749945761845]\n",
       " [1.7290033658110802, -0.05206296297484081]\n",
       " [-3.9461800099790603, -0.23045507929680809]\n",
       " [-0.8335285468731009, -0.3322921960728791]\n",
       " [-6.657270751711097, 0.1651778853308037]\n",
       " [1.3497928236642562, -0.9397418613756727]\n",
       " [-3.233440422230844, 2.6430753443123005]\n",
       " [4.636320439400835, -1.4610008463284925]"
      ]
     },
     "metadata": {},
     "output_type": "display_data"
    }
   ],
   "source": [
    "Profile.Allocs.@profile sample_rate=1 monte(x,10,1)"
   ]
  },
  {
   "cell_type": "code",
   "execution_count": 23,
   "metadata": {},
   "outputs": [
    {
     "data": {
      "text/plain": [
       "profile_monte (generic function with 1 method)"
      ]
     },
     "metadata": {},
     "output_type": "display_data"
    }
   ],
   "source": [
    "function profile_monte(n)\n",
    "    for i=1:n\n",
    "        x = [rand(Uniform(-1, 1), 2) for i in 1:20 ] #list of all particles\n",
    "        monte(x,10,1)\n",
    "    end    \n",
    "end"
   ]
  },
  {
   "cell_type": "code",
   "execution_count": 38,
   "metadata": {},
   "outputs": [
    {
     "name": "stderr",
     "output_type": "stream",
     "text": [
      "\r\u001b[32mAnalyzing 840 allocation samples...   0%|                |  ETA: 0:01:00\u001b[39m\u001b[K"
     ]
    },
    {
     "name": "stderr",
     "output_type": "stream",
     "text": [
      "\r\u001b[32mAnalyzing 840 allocation samples... 100%|████████████████| Time: 0:00:06\u001b[39m\u001b[K\n"
     ]
    },
    {
     "data": {
      "text/plain": [
       "\"alloc-profile.pb.gz\""
      ]
     },
     "metadata": {},
     "output_type": "display_data"
    },
    {
     "name": "stderr",
     "output_type": "stream",
     "text": [
      "Main binary filename not available.\n",
      "Serving web UI on http://localhost:62261\n"
     ]
    }
   ],
   "source": [
    "PProf.Allocs.pprof(from_c=false)"
   ]
  },
  {
   "cell_type": "code",
   "execution_count": 29,
   "metadata": {},
   "outputs": [
    {
     "data": {
      "text/plain": [
       "Gtk.GtkWindowLeaf(name=\"\", parent, width-request=-1, height-request=-1, visible=TRUE, sensitive=TRUE, app-paintable=FALSE, can-focus=FALSE, has-focus=FALSE, is-focus=FALSE, focus-on-click=TRUE, can-default=FALSE, has-default=FALSE, receives-default=FALSE, composite-child=FALSE, style, events=0, no-show-all=FALSE, has-tooltip=FALSE, tooltip-markup=NULL, tooltip-text=NULL, window, opacity=1.000000, double-buffered, halign=GTK_ALIGN_FILL, valign=GTK_ALIGN_FILL, margin-left, margin-right, margin-start=0, margin-end=0, margin-top=0, margin-bottom=0, margin=0, hexpand=FALSE, vexpand=FALSE, hexpand-set=FALSE, vexpand-set=FALSE, expand=FALSE, scale-factor=1, border-width=0, resize-mode, child, type=GTK_WINDOW_TOPLEVEL, title=\"Profile\", role=NULL, resizable=TRUE, modal=FALSE, window-position=GTK_WIN_POS_NONE, default-width=800, default-height=600, destroy-with-parent=FALSE, hide-titlebar-when-maximized=FALSE, icon, icon-name=NULL, screen, type-hint=GDK_WINDOW_TYPE_HINT_NORMAL, skip-taskbar-hint=FALSE, skip-pager-hint=FALSE, urgency-hint=FALSE, accept-focus=TRUE, focus-on-map=TRUE, decorated=TRUE, deletable=TRUE, gravity=GDK_GRAVITY_NORTH_WEST, transient-for, attached-to, has-resize-grip, resize-grip-visible, application, is-active=FALSE, has-toplevel-focus=FALSE, startup-id, mnemonics-visible=FALSE, focus-visible=FALSE, is-maximized=FALSE)"
      ]
     },
     "metadata": {},
     "output_type": "display_data"
    }
   ],
   "source": [
    "ProfileView.view()"
   ]
  },
  {
   "cell_type": "code",
   "execution_count": 20,
   "metadata": {},
   "outputs": [
    {
     "name": "stderr",
     "output_type": "stream",
     "text": [
      "\u001b[32m\u001b[1m    Updating\u001b[22m\u001b[39m registry at `~/.julia/registries/General`\n"
     ]
    },
    {
     "name": "stderr",
     "output_type": "stream",
     "text": [
      "\u001b[32m\u001b[1m    Updating\u001b[22m\u001b[39m git-repo `https://github.com/JuliaRegistries/General.git`\n"
     ]
    },
    {
     "name": "stderr",
     "output_type": "stream",
     "text": [
      "\u001b[32m\u001b[1m   Resolving\u001b[22m\u001b[39m package versions...\n"
     ]
    },
    {
     "name": "stderr",
     "output_type": "stream",
     "text": [
      "\u001b[32m\u001b[1m   Installed\u001b[22m\u001b[39m LeftChildRightSiblingTrees ─ v0.2.0\n",
      "\u001b[32m\u001b[1m   Installed\u001b[22m\u001b[39m AbstractTrees ────────────── v0.4.4\n",
      "\u001b[32m\u001b[1m   Installed\u001b[22m\u001b[39m IntervalSets ─────────────── v0.7.4\n",
      "\u001b[32m\u001b[1m   Installed\u001b[22m\u001b[39m Observables ──────────────── v0.5.4\n"
     ]
    },
    {
     "name": "stderr",
     "output_type": "stream",
     "text": [
      "\u001b[32m\u001b[1m   Installed\u001b[22m\u001b[39m ProfileView ──────────────── v1.7.1\n",
      "\u001b[32m\u001b[1m   Installed\u001b[22m\u001b[39m GtkObservables ───────────── v1.2.9\n",
      "\u001b[32m\u001b[1m   Installed\u001b[22m\u001b[39m MethodAnalysis ───────────── v0.4.13\n",
      "\u001b[32m\u001b[1m   Installed\u001b[22m\u001b[39m FileIO ───────────────────── v1.16.1\n"
     ]
    },
    {
     "name": "stderr",
     "output_type": "stream",
     "text": [
      "\u001b[32m\u001b[1m   Installed\u001b[22m\u001b[39m FlameGraphs ──────────────── v1.0.0\n"
     ]
    },
    {
     "name": "stderr",
     "output_type": "stream",
     "text": [
      "\u001b[32m\u001b[1m    Updating\u001b[22m\u001b[39m `~/.julia/environments/v1.9/Project.toml`\n",
      "  \u001b[90m[c46f51b8] \u001b[39m\u001b[92m+ ProfileView v1.7.1\u001b[39m\n",
      "\u001b[32m\u001b[1m    Updating\u001b[22m\u001b[39m `~/.julia/environments/v1.9/Manifest.toml`\n",
      " "
     ]
    },
    {
     "name": "stderr",
     "output_type": "stream",
     "text": [
      " \u001b[90m[1520ce14] \u001b[39m\u001b[92m+ AbstractTrees v0.4.4\u001b[39m\n",
      "  \u001b[90m[5789e2e9] \u001b[39m\u001b[92m+ FileIO v1.16.1\u001b[39m\n",
      "  \u001b[90m[08572546] \u001b[39m\u001b[92m+ FlameGraphs v1.0.0\u001b[39m\n",
      "  \u001b[90m[8710efd8] \u001b[39m\u001b[92m+ GtkObservables v1.2.9\u001b[39m\n",
      "  \u001b[90m[9b13fd28] \u001b[39m\u001b[92m+ IndirectArrays v1.0.0\u001b[39m\n",
      "  \u001b[90m[8197267c] \u001b[39m\u001b[92m+ IntervalSets v0.7.4\u001b[39m\n",
      "  \u001b[90m[1d6d02ad] \u001b[39m\u001b[92m+ LeftChildRightSiblingTrees v0.2.0\u001b[39m\n",
      "  \u001b[90m[85b6ec6f] \u001b[39m\u001b[92m+ MethodAnalysis v0.4.13\u001b[39m\n",
      "  \u001b[90m[510215fc] \u001b[39m\u001b[92m+ Observables v0.5.4\u001b[39m\n",
      "  \u001b[90m[c46f51b8] \u001b[39m\u001b[92m+ ProfileView v1.7.1\u001b[39m\n",
      "  \u001b[90m[d5f540fe] \u001b[39m\u001b[92m+ RoundingIntegers v1.1.0\u001b[39m\n"
     ]
    },
    {
     "name": "stderr",
     "output_type": "stream",
     "text": [
      "\u001b[32m\u001b[1mPrecompiling\u001b[22m\u001b[39m "
     ]
    },
    {
     "name": "stderr",
     "output_type": "stream",
     "text": [
      "project...\n"
     ]
    },
    {
     "name": "stderr",
     "output_type": "stream",
     "text": [
      "\u001b[32m  ✓ \u001b[39m\u001b[90mIndirectArrays\u001b[39m\n",
      "\u001b[32m  ✓ \u001b[39m\u001b[90mRoundingIntegers\u001b[39m\n"
     ]
    },
    {
     "name": "stderr",
     "output_type": "stream",
     "text": [
      "\u001b[32m  ✓ \u001b[39m\u001b[90mIntervalSets\u001b[39m\n"
     ]
    },
    {
     "name": "stderr",
     "output_type": "stream",
     "text": [
      "\u001b[32m  ✓ \u001b[39m\u001b[90mObservables\u001b[39m\n"
     ]
    },
    {
     "name": "stderr",
     "output_type": "stream",
     "text": [
      "\u001b[32m  ✓ \u001b[39m\u001b[90mAbstractTrees\u001b[39m\n"
     ]
    },
    {
     "name": "stderr",
     "output_type": "stream",
     "text": [
      "\u001b[32m  ✓ \u001b[39m\u001b[90mMethodAnalysis\u001b[39m\n"
     ]
    },
    {
     "name": "stderr",
     "output_type": "stream",
     "text": [
      "\u001b[32m  ✓ \u001b[39m\u001b[90mLeftChildRightSiblingTrees\u001b[39m\n"
     ]
    },
    {
     "name": "stderr",
     "output_type": "stream",
     "text": [
      "\u001b[32m  ✓ \u001b[39m\u001b[90mFileIO\u001b[39m\n"
     ]
    },
    {
     "name": "stderr",
     "output_type": "stream",
     "text": [
      "\u001b[32m  ✓ \u001b[39m\u001b[90mPlots → FileIOExt\u001b[39m\n"
     ]
    },
    {
     "name": "stderr",
     "output_type": "stream",
     "text": [
      "\u001b[32m  ✓ \u001b[39m\u001b[90mFlameGraphs\u001b[39m\n"
     ]
    },
    {
     "name": "stderr",
     "output_type": "stream",
     "text": [
      "\u001b[32m  ✓ \u001b[39m\u001b[90mGtkObservables\u001b[39m\n"
     ]
    },
    {
     "name": "stderr",
     "output_type": "stream",
     "text": [
      "\u001b[32m  ✓ \u001b[39mProfileView\n",
      "  12 dependencies successfully precompiled in 39 seconds. 178 already precompiled.\n",
      "  \u001b[33m2\u001b[39m dependencies had warnings during precompilation:\u001b[33m\n",
      "┌ \u001b[39mGtkObservables [8710efd8-4ad6-11eb-33ea-2d5ceb25a41c]\u001b[33m\n",
      "│  \u001b[39mGtk-Message: 20:32:46.186: Failed to load module \"canberra-gtk-module\"\u001b[33m\n",
      "│  \u001b[39mGtk-Message: 20:32:46.187: Failed to load module \"canberra-gtk-module\"\u001b[33m\n",
      "└  \u001b[39m\u001b[33m\n",
      "┌ \u001b[39mProfileView [c46f51b8-102a-5cf2-8d2c-8597cb0e0da7]\u001b[33m\n",
      "│  \u001b[39mGtk-Message: 20:33:10.411: Failed to load module \"canberra-gtk-module\"\u001b[33m\n",
      "│  \u001b[39mGtk-Message: 20:33:10.413: Failed to load module \"canberra-gtk-module\"\u001b[33m\n",
      "└  \u001b[39m\n"
     ]
    }
   ],
   "source": [
    "using Pkg\n",
    "Pkg.add(\"ProfileView\")"
   ]
  },
  {
   "cell_type": "code",
   "execution_count": 21,
   "metadata": {},
   "outputs": [
    {
     "name": "stderr",
     "output_type": "stream",
     "text": [
      "Gtk-Message: 20:33:26.144: Failed to load module \"canberra-gtk-module\"\n",
      "Gtk-Message: 20:33:26.146: Failed to load module \"canberra-gtk-module\"\n",
      "WARNING: using ProfileView.@profview in module Main conflicts with an existing identifier.\n"
     ]
    }
   ],
   "source": [
    "using ProfileView"
   ]
  },
  {
   "cell_type": "code",
   "execution_count": 9,
   "metadata": {},
   "outputs": [
    {
     "data": {
      "text/plain": [
       "6"
      ]
     },
     "metadata": {},
     "output_type": "display_data"
    }
   ],
   "source": [
    "Threads.nthreads()"
   ]
  },
  {
   "cell_type": "code",
   "execution_count": 94,
   "metadata": {},
   "outputs": [
    {
     "data": {
      "text/plain": [
       "BenchmarkTools.Trial: 56 samples with 1 evaluation.\n",
       " Range \u001b[90m(\u001b[39m\u001b[36m\u001b[1mmin\u001b[22m\u001b[39m … \u001b[35mmax\u001b[39m\u001b[90m):  \u001b[39m\u001b[36m\u001b[1m59.114 ms\u001b[22m\u001b[39m … \u001b[35m111.577 ms\u001b[39m  \u001b[90m┊\u001b[39m GC \u001b[90m(\u001b[39mmin … max\u001b[90m): \u001b[39m 0.00% … 36.18%\n",
       " Time  \u001b[90m(\u001b[39m\u001b[34m\u001b[1mmedian\u001b[22m\u001b[39m\u001b[90m):     \u001b[39m\u001b[34m\u001b[1m97.905 ms               \u001b[22m\u001b[39m\u001b[90m┊\u001b[39m GC \u001b[90m(\u001b[39mmedian\u001b[90m):    \u001b[39m36.20%\n",
       " Time  \u001b[90m(\u001b[39m\u001b[32m\u001b[1mmean\u001b[22m\u001b[39m ± \u001b[32mσ\u001b[39m\u001b[90m):   \u001b[39m\u001b[32m\u001b[1m89.872 ms\u001b[22m\u001b[39m ± \u001b[32m 18.255 ms\u001b[39m  \u001b[90m┊\u001b[39m GC \u001b[90m(\u001b[39mmean ± σ\u001b[90m):  \u001b[39m27.46% ± 17.52%\n",
       "\n",
       "  \u001b[39m \u001b[39m \u001b[39m \u001b[39m \u001b[39m▂\u001b[39m \u001b[39m▂\u001b[39m \u001b[39m \u001b[39m \u001b[39m \u001b[39m \u001b[39m \u001b[39m \u001b[39m \u001b[39m \u001b[39m \u001b[39m \u001b[39m \u001b[39m \u001b[39m \u001b[39m \u001b[39m \u001b[39m \u001b[39m \u001b[39m \u001b[39m \u001b[39m \u001b[39m \u001b[39m \u001b[39m \u001b[39m \u001b[39m \u001b[39m \u001b[39m \u001b[39m \u001b[32m \u001b[39m\u001b[39m \u001b[39m \u001b[39m \u001b[39m \u001b[39m \u001b[39m \u001b[39m \u001b[39m▂\u001b[39m█\u001b[34m \u001b[39m\u001b[39m \u001b[39m▅\u001b[39m \u001b[39m \u001b[39m▅\u001b[39m \u001b[39m█\u001b[39m▂\u001b[39m \u001b[39m \u001b[39m \u001b[39m \u001b[39m \u001b[39m \u001b[39m \n",
       "  \u001b[39m▅\u001b[39m▅\u001b[39m█\u001b[39m▅\u001b[39m█\u001b[39m▅\u001b[39m█\u001b[39m█\u001b[39m▁\u001b[39m▅\u001b[39m▅\u001b[39m▁\u001b[39m▁\u001b[39m▅\u001b[39m▁\u001b[39m▅\u001b[39m▁\u001b[39m▁\u001b[39m▁\u001b[39m▁\u001b[39m▁\u001b[39m▁\u001b[39m▁\u001b[39m▁\u001b[39m▁\u001b[39m▁\u001b[39m▁\u001b[39m▁\u001b[39m▁\u001b[39m▁\u001b[39m▁\u001b[39m▁\u001b[39m▁\u001b[39m▅\u001b[39m▁\u001b[39m▁\u001b[32m▁\u001b[39m\u001b[39m▁\u001b[39m▁\u001b[39m▁\u001b[39m▁\u001b[39m▁\u001b[39m▁\u001b[39m▅\u001b[39m█\u001b[39m█\u001b[34m█\u001b[39m\u001b[39m▁\u001b[39m█\u001b[39m▁\u001b[39m▅\u001b[39m█\u001b[39m▅\u001b[39m█\u001b[39m█\u001b[39m█\u001b[39m█\u001b[39m▁\u001b[39m▅\u001b[39m█\u001b[39m \u001b[39m▁\n",
       "  59.1 ms\u001b[90m         Histogram: frequency by time\u001b[39m          110 ms \u001b[0m\u001b[1m<\u001b[22m\n",
       "\n",
       " Memory estimate\u001b[90m: \u001b[39m\u001b[33m156.32 MiB\u001b[39m, allocs estimate\u001b[90m: \u001b[39m\u001b[33m2040954\u001b[39m."
      ]
     },
     "metadata": {},
     "output_type": "display_data"
    }
   ],
   "source": [
    "x = [rand(Uniform(-1, 1), 2) for i in 1:1000 ] #list of all particles\n",
    "@benchmark monte_new_threaded($x,1,10)"
   ]
  },
  {
   "cell_type": "code",
   "execution_count": 95,
   "metadata": {},
   "outputs": [
    {
     "data": {
      "text/plain": [
       "BenchmarkTools.Trial: 25 samples with 1 evaluation.\n",
       " Range \u001b[90m(\u001b[39m\u001b[36m\u001b[1mmin\u001b[22m\u001b[39m … \u001b[35mmax\u001b[39m\u001b[90m):  \u001b[39m\u001b[36m\u001b[1m169.817 ms\u001b[22m\u001b[39m … \u001b[35m215.828 ms\u001b[39m  \u001b[90m┊\u001b[39m GC \u001b[90m(\u001b[39mmin … max\u001b[90m): \u001b[39m17.97% … 23.07%\n",
       " Time  \u001b[90m(\u001b[39m\u001b[34m\u001b[1mmedian\u001b[22m\u001b[39m\u001b[90m):     \u001b[39m\u001b[34m\u001b[1m201.646 ms               \u001b[22m\u001b[39m\u001b[90m┊\u001b[39m GC \u001b[90m(\u001b[39mmedian\u001b[90m):    \u001b[39m19.13%\n",
       " Time  \u001b[90m(\u001b[39m\u001b[32m\u001b[1mmean\u001b[22m\u001b[39m ± \u001b[32mσ\u001b[39m\u001b[90m):   \u001b[39m\u001b[32m\u001b[1m200.646 ms\u001b[22m\u001b[39m ± \u001b[32m 10.540 ms\u001b[39m  \u001b[90m┊\u001b[39m GC \u001b[90m(\u001b[39mmean ± σ\u001b[90m):  \u001b[39m19.98% ±  2.58%\n",
       "\n",
       "  \u001b[39m▁\u001b[39m \u001b[39m \u001b[39m \u001b[39m \u001b[39m \u001b[39m \u001b[39m \u001b[39m \u001b[39m \u001b[39m \u001b[39m \u001b[39m \u001b[39m \u001b[39m \u001b[39m \u001b[39m \u001b[39m \u001b[39m \u001b[39m \u001b[39m \u001b[39m▁\u001b[39m▁\u001b[39m \u001b[39m▁\u001b[39m \u001b[39m \u001b[39m \u001b[39m \u001b[39m▁\u001b[39m \u001b[39m \u001b[39m \u001b[39m▁\u001b[39m \u001b[39m█\u001b[39m \u001b[39m▁\u001b[39m█\u001b[39m▁\u001b[34m \u001b[39m\u001b[32m \u001b[39m\u001b[39m█\u001b[39m \u001b[39m▁\u001b[39m \u001b[39m▁\u001b[39m \u001b[39m█\u001b[39m█\u001b[39m \u001b[39m \u001b[39m \u001b[39m \u001b[39m \u001b[39m▁\u001b[39m▁\u001b[39m \u001b[39m▁\u001b[39m▁\u001b[39m▁\u001b[39m \u001b[39m \n",
       "  \u001b[39m█\u001b[39m▁\u001b[39m▁\u001b[39m▁\u001b[39m▁\u001b[39m▁\u001b[39m▁\u001b[39m▁\u001b[39m▁\u001b[39m▁\u001b[39m▁\u001b[39m▁\u001b[39m▁\u001b[39m▁\u001b[39m▁\u001b[39m▁\u001b[39m▁\u001b[39m▁\u001b[39m▁\u001b[39m▁\u001b[39m▁\u001b[39m█\u001b[39m█\u001b[39m▁\u001b[39m█\u001b[39m▁\u001b[39m▁\u001b[39m▁\u001b[39m▁\u001b[39m█\u001b[39m▁\u001b[39m▁\u001b[39m▁\u001b[39m█\u001b[39m▁\u001b[39m█\u001b[39m▁\u001b[39m█\u001b[39m█\u001b[39m█\u001b[34m▁\u001b[39m\u001b[32m▁\u001b[39m\u001b[39m█\u001b[39m▁\u001b[39m█\u001b[39m▁\u001b[39m█\u001b[39m▁\u001b[39m█\u001b[39m█\u001b[39m▁\u001b[39m▁\u001b[39m▁\u001b[39m▁\u001b[39m▁\u001b[39m█\u001b[39m█\u001b[39m▁\u001b[39m█\u001b[39m█\u001b[39m█\u001b[39m \u001b[39m▁\n",
       "  170 ms\u001b[90m           Histogram: frequency by time\u001b[39m          216 ms \u001b[0m\u001b[1m<\u001b[22m\n",
       "\n",
       " Memory estimate\u001b[90m: \u001b[39m\u001b[33m152.74 MiB\u001b[39m, allocs estimate\u001b[90m: \u001b[39m\u001b[33m2002000\u001b[39m."
      ]
     },
     "metadata": {},
     "output_type": "display_data"
    }
   ],
   "source": [
    "x = [rand(Uniform(-1, 1), 2) for i in 1:1000 ] #list of all particles\n",
    "@benchmark monte_new($x,1,10)"
   ]
  },
  {
   "cell_type": "code",
   "execution_count": 61,
   "metadata": {},
   "outputs": [
    {
     "data": {
      "text/plain": [
       "BenchmarkTools.Trial: 8249 samples with 1 evaluation.\n",
       " Range \u001b[90m(\u001b[39m\u001b[36m\u001b[1mmin\u001b[22m\u001b[39m … \u001b[35mmax\u001b[39m\u001b[90m):  \u001b[39m\u001b[36m\u001b[1m299.425 μs\u001b[22m\u001b[39m … \u001b[35m 16.594 ms\u001b[39m  \u001b[90m┊\u001b[39m GC \u001b[90m(\u001b[39mmin … max\u001b[90m): \u001b[39m 0.00% … 95.80%\n",
       " Time  \u001b[90m(\u001b[39m\u001b[34m\u001b[1mmedian\u001b[22m\u001b[39m\u001b[90m):     \u001b[39m\u001b[34m\u001b[1m402.426 μs               \u001b[22m\u001b[39m\u001b[90m┊\u001b[39m GC \u001b[90m(\u001b[39mmedian\u001b[90m):    \u001b[39m 0.00%\n",
       " Time  \u001b[90m(\u001b[39m\u001b[32m\u001b[1mmean\u001b[22m\u001b[39m ± \u001b[32mσ\u001b[39m\u001b[90m):   \u001b[39m\u001b[32m\u001b[1m590.873 μs\u001b[22m\u001b[39m ± \u001b[32m951.965 μs\u001b[39m  \u001b[90m┊\u001b[39m GC \u001b[90m(\u001b[39mmean ± σ\u001b[90m):  \u001b[39m13.97% ±  8.79%\n",
       "\n",
       "  \u001b[39m \u001b[39m█\u001b[39m \u001b[39m \u001b[39m \u001b[34m \u001b[39m\u001b[39m \u001b[39m \u001b[39m \u001b[39m \u001b[39m \u001b[39m \u001b[39m \u001b[32m \u001b[39m\u001b[39m \u001b[39m \u001b[39m \u001b[39m \u001b[39m \u001b[39m \u001b[39m \u001b[39m \u001b[39m \u001b[39m \u001b[39m \u001b[39m \u001b[39m \u001b[39m \u001b[39m \u001b[39m \u001b[39m \u001b[39m \u001b[39m \u001b[39m \u001b[39m \u001b[39m \u001b[39m \u001b[39m \u001b[39m \u001b[39m \u001b[39m \u001b[39m \u001b[39m \u001b[39m \u001b[39m \u001b[39m \u001b[39m \u001b[39m \u001b[39m \u001b[39m \u001b[39m \u001b[39m \u001b[39m \u001b[39m \u001b[39m \u001b[39m \u001b[39m \u001b[39m \u001b[39m \u001b[39m \u001b[39m \u001b[39m \u001b[39m \n",
       "  \u001b[39m▄\u001b[39m█\u001b[39m█\u001b[39m▆\u001b[39m▄\u001b[34m▄\u001b[39m\u001b[39m▃\u001b[39m▃\u001b[39m▃\u001b[39m▂\u001b[39m▂\u001b[39m▂\u001b[39m▂\u001b[32m▂\u001b[39m\u001b[39m▂\u001b[39m▂\u001b[39m▂\u001b[39m▂\u001b[39m▂\u001b[39m▂\u001b[39m▂\u001b[39m▂\u001b[39m▂\u001b[39m▂\u001b[39m▂\u001b[39m▂\u001b[39m▂\u001b[39m▁\u001b[39m▁\u001b[39m▁\u001b[39m▁\u001b[39m▁\u001b[39m▁\u001b[39m▁\u001b[39m▁\u001b[39m▁\u001b[39m▁\u001b[39m▁\u001b[39m▁\u001b[39m▁\u001b[39m▁\u001b[39m▁\u001b[39m▁\u001b[39m▁\u001b[39m▁\u001b[39m▁\u001b[39m▁\u001b[39m▁\u001b[39m▁\u001b[39m▁\u001b[39m▁\u001b[39m▁\u001b[39m▁\u001b[39m▁\u001b[39m▁\u001b[39m▁\u001b[39m▁\u001b[39m▁\u001b[39m▁\u001b[39m▁\u001b[39m▁\u001b[39m \u001b[39m▂\n",
       "  299 μs\u001b[90m           Histogram: frequency by time\u001b[39m         1.69 ms \u001b[0m\u001b[1m<\u001b[22m\n",
       "\n",
       " Memory estimate\u001b[90m: \u001b[39m\u001b[33m398.44 KiB\u001b[39m, allocs estimate\u001b[90m: \u001b[39m\u001b[33m5100\u001b[39m."
      ]
     },
     "metadata": {},
     "output_type": "display_data"
    }
   ],
   "source": [
    "x = [rand(Uniform(-1, 1), 2) for i in 1:50 ] #list of all particles\n",
    "@benchmark monte($x,1,10)"
   ]
  },
  {
   "cell_type": "code",
   "execution_count": 4,
   "metadata": {},
   "outputs": [
    {
     "data": {
      "text/plain": [
       "main (generic function with 1 method)"
      ]
     },
     "metadata": {},
     "output_type": "display_data"
    }
   ],
   "source": [
    "function main()\n",
    "\n",
    "    N = (10^4) #Temp points\n",
    "\n",
    "    n = 10#5*(10^2) #particles \n",
    "    \n",
    "    T0 = 10\n",
    "    T1 = LinRange(0.000001,T0,N)\n",
    "    \n",
    "    x = [rand(Uniform(-1, 1), 2) for i in 1:n ] #list of all particles\n",
    "    \n",
    "    println(energy(x))\n",
    "    \n",
    "    for i=1:N \n",
    "        #println(i)\n",
    "        x = monte(x,T1[N-i+1],T0)#monte_new_threaded(x,T1[N-i+1],T0)\n",
    "    end\n",
    "    \n",
    "    print(energy(x))\n",
    "    return x    \n",
    "end"
   ]
  },
  {
   "cell_type": "code",
   "execution_count": 5,
   "metadata": {},
   "outputs": [
    {
     "name": "stdout",
     "output_type": "stream",
     "text": [
      "206.102176690475\n"
     ]
    },
    {
     "name": "stdout",
     "output_type": "stream",
     "text": [
      "36.78162679290204"
     ]
    }
   ],
   "source": [
    "x_test = main();"
   ]
  },
  {
   "cell_type": "code",
   "execution_count": 6,
   "metadata": {},
   "outputs": [
    {
     "data": {
      "image/png": "[encoded data removed]",
      "image/svg+xml": [
       "<?xml version=\"1.0\" encoding=\"utf-8\"?>\n",
       "<svg xmlns=\"http://www.w3.org/2000/svg\" xmlns:xlink=\"http://www.w3.org/1999/xlink\" width=\"600\" height=\"400\" viewBox=\"0 0 2400 1600\">\n",
       "<defs>\n",
       "  <clipPath id=\"clip350\">\n",
       "    <rect x=\"0\" y=\"0\" width=\"2400\" height=\"1600\"/>\n",
       "  </clipPath>\n",
       "</defs>\n",
       "<path clip-path=\"url(#clip350)\" d=\"M0 1600 L2400 1600 L2400 0 L0 0  Z\" fill=\"#ffffff\" fill-rule=\"evenodd\" fill-opacity=\"1\"/>\n",
       "<defs>\n",
       "  <clipPath id=\"clip351\">\n",
       "    <rect x=\"480\" y=\"0\" width=\"1681\" height=\"1600\"/>\n",
       "  </clipPath>\n",
       "</defs>\n",
       "<path clip-path=\"url(#clip350)\" d=\"M193.936 1486.45 L2352.76 1486.45 L2352.76 47.2441 L193.936 47.2441  Z\" fill=\"#ffffff\" fill-rule=\"evenodd\" fill-opacity=\"1\"/>\n",
       "<defs>\n",
       "  <clipPath id=\"clip352\">\n",
       "    <rect x=\"193\" y=\"47\" width=\"2160\" height=\"1440\"/>\n",
       "  </clipPath>\n",
       "</defs>\n",
       "<polyline clip-path=\"url(#clip352)\" style=\"stroke:#000000; stroke-linecap:round; stroke-linejoin:round; stroke-width:2; stroke-opacity:0.1; fill:none\" points=\"226.032,1486.45 226.032,47.2441 \"/>\n",
       "<polyline clip-path=\"url(#clip352)\" style=\"stroke:#000000; stroke-linecap:round; stroke-linejoin:round; stroke-width:2; stroke-opacity:0.1; fill:none\" points=\"574.306,1486.45 574.306,47.2441 \"/>\n",
       "<polyline clip-path=\"url(#clip352)\" style=\"stroke:#000000; stroke-linecap:round; stroke-linejoin:round; stroke-width:2; stroke-opacity:0.1; fill:none\" points=\"922.58,1486.45 922.58,47.2441 \"/>\n",
       "<polyline clip-path=\"url(#clip352)\" style=\"stroke:#000000; stroke-linecap:round; stroke-linejoin:round; stroke-width:2; stroke-opacity:0.1; fill:none\" points=\"1270.85,1486.45 1270.85,47.2441 \"/>\n",
       "<polyline clip-path=\"url(#clip352)\" style=\"stroke:#000000; stroke-linecap:round; stroke-linejoin:round; stroke-width:2; stroke-opacity:0.1; fill:none\" points=\"1619.13,1486.45 1619.13,47.2441 \"/>\n",
       "<polyline clip-path=\"url(#clip352)\" style=\"stroke:#000000; stroke-linecap:round; stroke-linejoin:round; stroke-width:2; stroke-opacity:0.1; fill:none\" points=\"1967.4,1486.45 1967.4,47.2441 \"/>\n",
       "<polyline clip-path=\"url(#clip352)\" style=\"stroke:#000000; stroke-linecap:round; stroke-linejoin:round; stroke-width:2; stroke-opacity:0.1; fill:none\" points=\"2315.68,1486.45 2315.68,47.2441 \"/>\n",
       "<polyline clip-path=\"url(#clip350)\" style=\"stroke:#000000; stroke-linecap:round; stroke-linejoin:round; stroke-width:4; stroke-opacity:1; fill:none\" points=\"193.936,1486.45 2352.76,1486.45 \"/>\n",
       "<polyline clip-path=\"url(#clip350)\" style=\"stroke:#000000; stroke-linecap:round; stroke-linejoin:round; stroke-width:4; stroke-opacity:1; fill:none\" points=\"226.032,1486.45 226.032,1467.55 \"/>\n",
       "<polyline clip-path=\"url(#clip350)\" style=\"stroke:#000000; stroke-linecap:round; stroke-linejoin:round; stroke-width:4; stroke-opacity:1; fill:none\" points=\"574.306,1486.45 574.306,1467.55 \"/>\n",
       "<polyline clip-path=\"url(#clip350)\" style=\"stroke:#000000; stroke-linecap:round; stroke-linejoin:round; stroke-width:4; stroke-opacity:1; fill:none\" points=\"922.58,1486.45 922.58,1467.55 \"/>\n",
       "<polyline clip-path=\"url(#clip350)\" style=\"stroke:#000000; stroke-linecap:round; stroke-linejoin:round; stroke-width:4; stroke-opacity:1; fill:none\" points=\"1270.85,1486.45 1270.85,1467.55 \"/>\n",
       "<polyline clip-path=\"url(#clip350)\" style=\"stroke:#000000; stroke-linecap:round; stroke-linejoin:round; stroke-width:4; stroke-opacity:1; fill:none\" points=\"1619.13,1486.45 1619.13,1467.55 \"/>\n",
       "<polyline clip-path=\"url(#clip350)\" style=\"stroke:#000000; stroke-linecap:round; stroke-linejoin:round; stroke-width:4; stroke-opacity:1; fill:none\" points=\"1967.4,1486.45 1967.4,1467.55 \"/>\n",
       "<polyline clip-path=\"url(#clip350)\" style=\"stroke:#000000; stroke-linecap:round; stroke-linejoin:round; stroke-width:4; stroke-opacity:1; fill:none\" points=\"2315.68,1486.45 2315.68,1467.55 \"/>\n",
       "<path clip-path=\"url(#clip350)\" d=\"M173.058 1532.02 L202.733 1532.02 L202.733 1535.95 L173.058 1535.95 L173.058 1532.02 Z\" fill=\"#000000\" fill-rule=\"nonzero\" fill-opacity=\"1\" /><path clip-path=\"url(#clip350)\" d=\"M213.636 1544.91 L221.275 1544.91 L221.275 1518.55 L212.965 1520.21 L212.965 1515.95 L221.229 1514.29 L225.904 1514.29 L225.904 1544.91 L233.543 1544.91 L233.543 1548.85 L213.636 1548.85 L213.636 1544.91 Z\" fill=\"#000000\" fill-rule=\"nonzero\" fill-opacity=\"1\" /><path clip-path=\"url(#clip350)\" d=\"M242.988 1542.97 L247.872 1542.97 L247.872 1548.85 L242.988 1548.85 L242.988 1542.97 Z\" fill=\"#000000\" fill-rule=\"nonzero\" fill-opacity=\"1\" /><path clip-path=\"url(#clip350)\" d=\"M258.103 1514.29 L276.46 1514.29 L276.46 1518.22 L262.386 1518.22 L262.386 1526.7 Q263.404 1526.35 264.423 1526.19 Q265.441 1526 266.46 1526 Q272.247 1526 275.626 1529.17 Q279.006 1532.34 279.006 1537.76 Q279.006 1543.34 275.534 1546.44 Q272.062 1549.52 265.742 1549.52 Q263.566 1549.52 261.298 1549.15 Q259.052 1548.78 256.645 1548.04 L256.645 1543.34 Q258.728 1544.47 260.951 1545.03 Q263.173 1545.58 265.65 1545.58 Q269.654 1545.58 271.992 1543.48 Q274.33 1541.37 274.33 1537.76 Q274.33 1534.15 271.992 1532.04 Q269.654 1529.94 265.65 1529.94 Q263.775 1529.94 261.9 1530.35 Q260.048 1530.77 258.103 1531.65 L258.103 1514.29 Z\" fill=\"#000000\" fill-rule=\"nonzero\" fill-opacity=\"1\" /><path clip-path=\"url(#clip350)\" d=\"M520.834 1532.02 L550.51 1532.02 L550.51 1535.95 L520.834 1535.95 L520.834 1532.02 Z\" fill=\"#000000\" fill-rule=\"nonzero\" fill-opacity=\"1\" /><path clip-path=\"url(#clip350)\" d=\"M561.413 1544.91 L569.051 1544.91 L569.051 1518.55 L560.741 1520.21 L560.741 1515.95 L569.005 1514.29 L573.681 1514.29 L573.681 1544.91 L581.32 1544.91 L581.32 1548.85 L561.413 1548.85 L561.413 1544.91 Z\" fill=\"#000000\" fill-rule=\"nonzero\" fill-opacity=\"1\" /><path clip-path=\"url(#clip350)\" d=\"M590.764 1542.97 L595.649 1542.97 L595.649 1548.85 L590.764 1548.85 L590.764 1542.97 Z\" fill=\"#000000\" fill-rule=\"nonzero\" fill-opacity=\"1\" /><path clip-path=\"url(#clip350)\" d=\"M615.834 1517.37 Q612.222 1517.37 610.394 1520.93 Q608.588 1524.47 608.588 1531.6 Q608.588 1538.71 610.394 1542.27 Q612.222 1545.82 615.834 1545.82 Q619.468 1545.82 621.273 1542.27 Q623.102 1538.71 623.102 1531.6 Q623.102 1524.47 621.273 1520.93 Q619.468 1517.37 615.834 1517.37 M615.834 1513.66 Q621.644 1513.66 624.699 1518.27 Q627.778 1522.85 627.778 1531.6 Q627.778 1540.33 624.699 1544.94 Q621.644 1549.52 615.834 1549.52 Q610.023 1549.52 606.945 1544.94 Q603.889 1540.33 603.889 1531.6 Q603.889 1522.85 606.945 1518.27 Q610.023 1513.66 615.834 1513.66 Z\" fill=\"#000000\" fill-rule=\"nonzero\" fill-opacity=\"1\" /><path clip-path=\"url(#clip350)\" d=\"M869.606 1532.02 L899.282 1532.02 L899.282 1535.95 L869.606 1535.95 L869.606 1532.02 Z\" fill=\"#000000\" fill-rule=\"nonzero\" fill-opacity=\"1\" /><path clip-path=\"url(#clip350)\" d=\"M919.374 1517.37 Q915.763 1517.37 913.935 1520.93 Q912.129 1524.47 912.129 1531.6 Q912.129 1538.71 913.935 1542.27 Q915.763 1545.82 919.374 1545.82 Q923.009 1545.82 924.814 1542.27 Q926.643 1538.71 926.643 1531.6 Q926.643 1524.47 924.814 1520.93 Q923.009 1517.37 919.374 1517.37 M919.374 1513.66 Q925.184 1513.66 928.24 1518.27 Q931.319 1522.85 931.319 1531.6 Q931.319 1540.33 928.24 1544.94 Q925.184 1549.52 919.374 1549.52 Q913.564 1549.52 910.485 1544.94 Q907.43 1540.33 907.43 1531.6 Q907.43 1522.85 910.485 1518.27 Q913.564 1513.66 919.374 1513.66 Z\" fill=\"#000000\" fill-rule=\"nonzero\" fill-opacity=\"1\" /><path clip-path=\"url(#clip350)\" d=\"M939.536 1542.97 L944.42 1542.97 L944.42 1548.85 L939.536 1548.85 L939.536 1542.97 Z\" fill=\"#000000\" fill-rule=\"nonzero\" fill-opacity=\"1\" /><path clip-path=\"url(#clip350)\" d=\"M954.652 1514.29 L973.008 1514.29 L973.008 1518.22 L958.934 1518.22 L958.934 1526.7 Q959.953 1526.35 960.971 1526.19 Q961.99 1526 963.008 1526 Q968.795 1526 972.175 1529.17 Q975.555 1532.34 975.555 1537.76 Q975.555 1543.34 972.082 1546.44 Q968.61 1549.52 962.291 1549.52 Q960.115 1549.52 957.846 1549.15 Q955.601 1548.78 953.194 1548.04 L953.194 1543.34 Q955.277 1544.47 957.499 1545.03 Q959.721 1545.58 962.198 1545.58 Q966.203 1545.58 968.541 1543.48 Q970.879 1541.37 970.879 1537.76 Q970.879 1534.15 968.541 1532.04 Q966.203 1529.94 962.198 1529.94 Q960.323 1529.94 958.448 1530.35 Q956.596 1530.77 954.652 1531.65 L954.652 1514.29 Z\" fill=\"#000000\" fill-rule=\"nonzero\" fill-opacity=\"1\" /><path clip-path=\"url(#clip350)\" d=\"M1248.24 1517.37 Q1244.63 1517.37 1242.8 1520.93 Q1240.99 1524.47 1240.99 1531.6 Q1240.99 1538.71 1242.8 1542.27 Q1244.63 1545.82 1248.24 1545.82 Q1251.87 1545.82 1253.68 1542.27 Q1255.51 1538.71 1255.51 1531.6 Q1255.51 1524.47 1253.68 1520.93 Q1251.87 1517.37 1248.24 1517.37 M1248.24 1513.66 Q1254.05 1513.66 1257.1 1518.27 Q1260.18 1522.85 1260.18 1531.6 Q1260.18 1540.33 1257.1 1544.94 Q1254.05 1549.52 1248.24 1549.52 Q1242.43 1549.52 1239.35 1544.94 Q1236.29 1540.33 1236.29 1531.6 Q1236.29 1522.85 1239.35 1518.27 Q1242.43 1513.66 1248.24 1513.66 Z\" fill=\"#000000\" fill-rule=\"nonzero\" fill-opacity=\"1\" /><path clip-path=\"url(#clip350)\" d=\"M1268.4 1542.97 L1273.29 1542.97 L1273.29 1548.85 L1268.4 1548.85 L1268.4 1542.97 Z\" fill=\"#000000\" fill-rule=\"nonzero\" fill-opacity=\"1\" /><path clip-path=\"url(#clip350)\" d=\"M1293.47 1517.37 Q1289.86 1517.37 1288.03 1520.93 Q1286.22 1524.47 1286.22 1531.6 Q1286.22 1538.71 1288.03 1542.27 Q1289.86 1545.82 1293.47 1545.82 Q1297.1 1545.82 1298.91 1542.27 Q1300.74 1538.71 1300.74 1531.6 Q1300.74 1524.47 1298.91 1520.93 Q1297.1 1517.37 1293.47 1517.37 M1293.47 1513.66 Q1299.28 1513.66 1302.34 1518.27 Q1305.41 1522.85 1305.41 1531.6 Q1305.41 1540.33 1302.34 1544.94 Q1299.28 1549.52 1293.47 1549.52 Q1287.66 1549.52 1284.58 1544.94 Q1281.53 1540.33 1281.53 1531.6 Q1281.53 1522.85 1284.58 1518.27 Q1287.66 1513.66 1293.47 1513.66 Z\" fill=\"#000000\" fill-rule=\"nonzero\" fill-opacity=\"1\" /><path clip-path=\"url(#clip350)\" d=\"M1597.01 1517.37 Q1593.4 1517.37 1591.57 1520.93 Q1589.77 1524.47 1589.77 1531.6 Q1589.77 1538.71 1591.57 1542.27 Q1593.4 1545.82 1597.01 1545.82 Q1600.65 1545.82 1602.45 1542.27 Q1604.28 1538.71 1604.28 1531.6 Q1604.28 1524.47 1602.45 1520.93 Q1600.65 1517.37 1597.01 1517.37 M1597.01 1513.66 Q1602.82 1513.66 1605.88 1518.27 Q1608.96 1522.85 1608.96 1531.6 Q1608.96 1540.33 1605.88 1544.94 Q1602.82 1549.52 1597.01 1549.52 Q1591.2 1549.52 1588.12 1544.94 Q1585.07 1540.33 1585.07 1531.6 Q1585.07 1522.85 1588.12 1518.27 Q1591.2 1513.66 1597.01 1513.66 Z\" fill=\"#000000\" fill-rule=\"nonzero\" fill-opacity=\"1\" /><path clip-path=\"url(#clip350)\" d=\"M1617.17 1542.97 L1622.06 1542.97 L1622.06 1548.85 L1617.17 1548.85 L1617.17 1542.97 Z\" fill=\"#000000\" fill-rule=\"nonzero\" fill-opacity=\"1\" /><path clip-path=\"url(#clip350)\" d=\"M1632.29 1514.29 L1650.64 1514.29 L1650.64 1518.22 L1636.57 1518.22 L1636.57 1526.7 Q1637.59 1526.35 1638.61 1526.19 Q1639.63 1526 1640.64 1526 Q1646.43 1526 1649.81 1529.17 Q1653.19 1532.34 1653.19 1537.76 Q1653.19 1543.34 1649.72 1546.44 Q1646.25 1549.52 1639.93 1549.52 Q1637.75 1549.52 1635.48 1549.15 Q1633.24 1548.78 1630.83 1548.04 L1630.83 1543.34 Q1632.91 1544.47 1635.14 1545.03 Q1637.36 1545.58 1639.83 1545.58 Q1643.84 1545.58 1646.18 1543.48 Q1648.52 1541.37 1648.52 1537.76 Q1648.52 1534.15 1646.18 1532.04 Q1643.84 1529.94 1639.83 1529.94 Q1637.96 1529.94 1636.08 1530.35 Q1634.23 1530.77 1632.29 1531.65 L1632.29 1514.29 Z\" fill=\"#000000\" fill-rule=\"nonzero\" fill-opacity=\"1\" /><path clip-path=\"url(#clip350)\" d=\"M1934.56 1544.91 L1942.19 1544.91 L1942.19 1518.55 L1933.88 1520.21 L1933.88 1515.95 L1942.15 1514.29 L1946.82 1514.29 L1946.82 1544.91 L1954.46 1544.91 L1954.46 1548.85 L1934.56 1548.85 L1934.56 1544.91 Z\" fill=\"#000000\" fill-rule=\"nonzero\" fill-opacity=\"1\" /><path clip-path=\"url(#clip350)\" d=\"M1963.91 1542.97 L1968.79 1542.97 L1968.79 1548.85 L1963.91 1548.85 L1963.91 1542.97 Z\" fill=\"#000000\" fill-rule=\"nonzero\" fill-opacity=\"1\" /><path clip-path=\"url(#clip350)\" d=\"M1988.98 1517.37 Q1985.37 1517.37 1983.54 1520.93 Q1981.73 1524.47 1981.73 1531.6 Q1981.73 1538.71 1983.54 1542.27 Q1985.37 1545.82 1988.98 1545.82 Q1992.61 1545.82 1994.42 1542.27 Q1996.25 1538.71 1996.25 1531.6 Q1996.25 1524.47 1994.42 1520.93 Q1992.61 1517.37 1988.98 1517.37 M1988.98 1513.66 Q1994.79 1513.66 1997.84 1518.27 Q2000.92 1522.85 2000.92 1531.6 Q2000.92 1540.33 1997.84 1544.94 Q1994.79 1549.52 1988.98 1549.52 Q1983.17 1549.52 1980.09 1544.94 Q1977.03 1540.33 1977.03 1531.6 Q1977.03 1522.85 1980.09 1518.27 Q1983.17 1513.66 1988.98 1513.66 Z\" fill=\"#000000\" fill-rule=\"nonzero\" fill-opacity=\"1\" /><path clip-path=\"url(#clip350)\" d=\"M2283.33 1544.91 L2290.97 1544.91 L2290.97 1518.55 L2282.66 1520.21 L2282.66 1515.95 L2290.92 1514.29 L2295.6 1514.29 L2295.6 1544.91 L2303.24 1544.91 L2303.24 1548.85 L2283.33 1548.85 L2283.33 1544.91 Z\" fill=\"#000000\" fill-rule=\"nonzero\" fill-opacity=\"1\" /><path clip-path=\"url(#clip350)\" d=\"M2312.68 1542.97 L2317.56 1542.97 L2317.56 1548.85 L2312.68 1548.85 L2312.68 1542.97 Z\" fill=\"#000000\" fill-rule=\"nonzero\" fill-opacity=\"1\" /><path clip-path=\"url(#clip350)\" d=\"M2327.8 1514.29 L2346.15 1514.29 L2346.15 1518.22 L2332.08 1518.22 L2332.08 1526.7 Q2333.1 1526.35 2334.11 1526.19 Q2335.13 1526 2336.15 1526 Q2341.94 1526 2345.32 1529.17 Q2348.7 1532.34 2348.7 1537.76 Q2348.7 1543.34 2345.23 1546.44 Q2341.75 1549.52 2335.43 1549.52 Q2333.26 1549.52 2330.99 1549.15 Q2328.74 1548.78 2326.34 1548.04 L2326.34 1543.34 Q2328.42 1544.47 2330.64 1545.03 Q2332.86 1545.58 2335.34 1545.58 Q2339.35 1545.58 2341.68 1543.48 Q2344.02 1541.37 2344.02 1537.76 Q2344.02 1534.15 2341.68 1532.04 Q2339.35 1529.94 2335.34 1529.94 Q2333.47 1529.94 2331.59 1530.35 Q2329.74 1530.77 2327.8 1531.65 L2327.8 1514.29 Z\" fill=\"#000000\" fill-rule=\"nonzero\" fill-opacity=\"1\" /><polyline clip-path=\"url(#clip352)\" style=\"stroke:#000000; stroke-linecap:round; stroke-linejoin:round; stroke-width:2; stroke-opacity:0.1; fill:none\" points=\"193.936,1405.95 2352.76,1405.95 \"/>\n",
       "<polyline clip-path=\"url(#clip352)\" style=\"stroke:#000000; stroke-linecap:round; stroke-linejoin:round; stroke-width:2; stroke-opacity:0.1; fill:none\" points=\"193.936,1194.45 2352.76,1194.45 \"/>\n",
       "<polyline clip-path=\"url(#clip352)\" style=\"stroke:#000000; stroke-linecap:round; stroke-linejoin:round; stroke-width:2; stroke-opacity:0.1; fill:none\" points=\"193.936,982.942 2352.76,982.942 \"/>\n",
       "<polyline clip-path=\"url(#clip352)\" style=\"stroke:#000000; stroke-linecap:round; stroke-linejoin:round; stroke-width:2; stroke-opacity:0.1; fill:none\" points=\"193.936,771.438 2352.76,771.438 \"/>\n",
       "<polyline clip-path=\"url(#clip352)\" style=\"stroke:#000000; stroke-linecap:round; stroke-linejoin:round; stroke-width:2; stroke-opacity:0.1; fill:none\" points=\"193.936,559.934 2352.76,559.934 \"/>\n",
       "<polyline clip-path=\"url(#clip352)\" style=\"stroke:#000000; stroke-linecap:round; stroke-linejoin:round; stroke-width:2; stroke-opacity:0.1; fill:none\" points=\"193.936,348.43 2352.76,348.43 \"/>\n",
       "<polyline clip-path=\"url(#clip352)\" style=\"stroke:#000000; stroke-linecap:round; stroke-linejoin:round; stroke-width:2; stroke-opacity:0.1; fill:none\" points=\"193.936,136.926 2352.76,136.926 \"/>\n",
       "<polyline clip-path=\"url(#clip350)\" style=\"stroke:#000000; stroke-linecap:round; stroke-linejoin:round; stroke-width:4; stroke-opacity:1; fill:none\" points=\"193.936,1486.45 193.936,47.2441 \"/>\n",
       "<polyline clip-path=\"url(#clip350)\" style=\"stroke:#000000; stroke-linecap:round; stroke-linejoin:round; stroke-width:4; stroke-opacity:1; fill:none\" points=\"193.936,1405.95 212.834,1405.95 \"/>\n",
       "<polyline clip-path=\"url(#clip350)\" style=\"stroke:#000000; stroke-linecap:round; stroke-linejoin:round; stroke-width:4; stroke-opacity:1; fill:none\" points=\"193.936,1194.45 212.834,1194.45 \"/>\n",
       "<polyline clip-path=\"url(#clip350)\" style=\"stroke:#000000; stroke-linecap:round; stroke-linejoin:round; stroke-width:4; stroke-opacity:1; fill:none\" points=\"193.936,982.942 212.834,982.942 \"/>\n",
       "<polyline clip-path=\"url(#clip350)\" style=\"stroke:#000000; stroke-linecap:round; stroke-linejoin:round; stroke-width:4; stroke-opacity:1; fill:none\" points=\"193.936,771.438 212.834,771.438 \"/>\n",
       "<polyline clip-path=\"url(#clip350)\" style=\"stroke:#000000; stroke-linecap:round; stroke-linejoin:round; stroke-width:4; stroke-opacity:1; fill:none\" points=\"193.936,559.934 212.834,559.934 \"/>\n",
       "<polyline clip-path=\"url(#clip350)\" style=\"stroke:#000000; stroke-linecap:round; stroke-linejoin:round; stroke-width:4; stroke-opacity:1; fill:none\" points=\"193.936,348.43 212.834,348.43 \"/>\n",
       "<polyline clip-path=\"url(#clip350)\" style=\"stroke:#000000; stroke-linecap:round; stroke-linejoin:round; stroke-width:4; stroke-opacity:1; fill:none\" points=\"193.936,136.926 212.834,136.926 \"/>\n",
       "<path clip-path=\"url(#clip350)\" d=\"M51.9875 1406.4 L81.6633 1406.4 L81.6633 1410.34 L51.9875 1410.34 L51.9875 1406.4 Z\" fill=\"#000000\" fill-rule=\"nonzero\" fill-opacity=\"1\" /><path clip-path=\"url(#clip350)\" d=\"M92.566 1419.29 L100.205 1419.29 L100.205 1392.93 L91.8947 1394.6 L91.8947 1390.34 L100.159 1388.67 L104.834 1388.67 L104.834 1419.29 L112.473 1419.29 L112.473 1423.23 L92.566 1423.23 L92.566 1419.29 Z\" fill=\"#000000\" fill-rule=\"nonzero\" fill-opacity=\"1\" /><path clip-path=\"url(#clip350)\" d=\"M121.918 1417.35 L126.802 1417.35 L126.802 1423.23 L121.918 1423.23 L121.918 1417.35 Z\" fill=\"#000000\" fill-rule=\"nonzero\" fill-opacity=\"1\" /><path clip-path=\"url(#clip350)\" d=\"M137.033 1388.67 L155.39 1388.67 L155.39 1392.61 L141.316 1392.61 L141.316 1401.08 Q142.334 1400.73 143.353 1400.57 Q144.371 1400.38 145.39 1400.38 Q151.177 1400.38 154.556 1403.55 Q157.936 1406.73 157.936 1412.14 Q157.936 1417.72 154.464 1420.82 Q150.992 1423.9 144.672 1423.9 Q142.496 1423.9 140.228 1423.53 Q137.982 1423.16 135.575 1422.42 L135.575 1417.72 Q137.658 1418.86 139.881 1419.41 Q142.103 1419.97 144.58 1419.97 Q148.584 1419.97 150.922 1417.86 Q153.26 1415.75 153.26 1412.14 Q153.26 1408.53 150.922 1406.42 Q148.584 1404.32 144.58 1404.32 Q142.705 1404.32 140.83 1404.73 Q138.978 1405.15 137.033 1406.03 L137.033 1388.67 Z\" fill=\"#000000\" fill-rule=\"nonzero\" fill-opacity=\"1\" /><path clip-path=\"url(#clip350)\" d=\"M50.9921 1194.9 L80.6679 1194.9 L80.6679 1198.83 L50.9921 1198.83 L50.9921 1194.9 Z\" fill=\"#000000\" fill-rule=\"nonzero\" fill-opacity=\"1\" /><path clip-path=\"url(#clip350)\" d=\"M91.5706 1207.79 L99.2095 1207.79 L99.2095 1181.43 L90.8993 1183.09 L90.8993 1178.83 L99.1632 1177.17 L103.839 1177.17 L103.839 1207.79 L111.478 1207.79 L111.478 1211.73 L91.5706 1211.73 L91.5706 1207.79 Z\" fill=\"#000000\" fill-rule=\"nonzero\" fill-opacity=\"1\" /><path clip-path=\"url(#clip350)\" d=\"M120.922 1205.85 L125.807 1205.85 L125.807 1211.73 L120.922 1211.73 L120.922 1205.85 Z\" fill=\"#000000\" fill-rule=\"nonzero\" fill-opacity=\"1\" /><path clip-path=\"url(#clip350)\" d=\"M145.992 1180.24 Q142.381 1180.24 140.552 1183.81 Q138.746 1187.35 138.746 1194.48 Q138.746 1201.59 140.552 1205.15 Q142.381 1208.69 145.992 1208.69 Q149.626 1208.69 151.431 1205.15 Q153.26 1201.59 153.26 1194.48 Q153.26 1187.35 151.431 1183.81 Q149.626 1180.24 145.992 1180.24 M145.992 1176.54 Q151.802 1176.54 154.857 1181.15 Q157.936 1185.73 157.936 1194.48 Q157.936 1203.21 154.857 1207.81 Q151.802 1212.4 145.992 1212.4 Q140.181 1212.4 137.103 1207.81 Q134.047 1203.21 134.047 1194.48 Q134.047 1185.73 137.103 1181.15 Q140.181 1176.54 145.992 1176.54 Z\" fill=\"#000000\" fill-rule=\"nonzero\" fill-opacity=\"1\" /><path clip-path=\"url(#clip350)\" d=\"M51.9875 983.393 L81.6633 983.393 L81.6633 987.328 L51.9875 987.328 L51.9875 983.393 Z\" fill=\"#000000\" fill-rule=\"nonzero\" fill-opacity=\"1\" /><path clip-path=\"url(#clip350)\" d=\"M101.756 968.741 Q98.1447 968.741 96.316 972.305 Q94.5104 975.847 94.5104 982.977 Q94.5104 990.083 96.316 993.648 Q98.1447 997.19 101.756 997.19 Q105.39 997.19 107.196 993.648 Q109.024 990.083 109.024 982.977 Q109.024 975.847 107.196 972.305 Q105.39 968.741 101.756 968.741 M101.756 965.037 Q107.566 965.037 110.621 969.643 Q113.7 974.227 113.7 982.977 Q113.7 991.703 110.621 996.31 Q107.566 1000.89 101.756 1000.89 Q95.9456 1000.89 92.8669 996.31 Q89.8114 991.703 89.8114 982.977 Q89.8114 974.227 92.8669 969.643 Q95.9456 965.037 101.756 965.037 Z\" fill=\"#000000\" fill-rule=\"nonzero\" fill-opacity=\"1\" /><path clip-path=\"url(#clip350)\" d=\"M121.918 994.342 L126.802 994.342 L126.802 1000.22 L121.918 1000.22 L121.918 994.342 Z\" fill=\"#000000\" fill-rule=\"nonzero\" fill-opacity=\"1\" /><path clip-path=\"url(#clip350)\" d=\"M137.033 965.662 L155.39 965.662 L155.39 969.597 L141.316 969.597 L141.316 978.069 Q142.334 977.722 143.353 977.56 Q144.371 977.375 145.39 977.375 Q151.177 977.375 154.556 980.546 Q157.936 983.717 157.936 989.134 Q157.936 994.713 154.464 997.815 Q150.992 1000.89 144.672 1000.89 Q142.496 1000.89 140.228 1000.52 Q137.982 1000.15 135.575 999.412 L135.575 994.713 Q137.658 995.847 139.881 996.402 Q142.103 996.958 144.58 996.958 Q148.584 996.958 150.922 994.852 Q153.26 992.745 153.26 989.134 Q153.26 985.523 150.922 983.416 Q148.584 981.31 144.58 981.31 Q142.705 981.31 140.83 981.727 Q138.978 982.143 137.033 983.023 L137.033 965.662 Z\" fill=\"#000000\" fill-rule=\"nonzero\" fill-opacity=\"1\" /><path clip-path=\"url(#clip350)\" d=\"M100.76 757.237 Q97.1493 757.237 95.3206 760.801 Q93.515 764.343 93.515 771.473 Q93.515 778.579 95.3206 782.144 Q97.1493 785.685 100.76 785.685 Q104.395 785.685 106.2 782.144 Q108.029 778.579 108.029 771.473 Q108.029 764.343 106.2 760.801 Q104.395 757.237 100.76 757.237 M100.76 753.533 Q106.571 753.533 109.626 758.139 Q112.705 762.723 112.705 771.473 Q112.705 780.199 109.626 784.806 Q106.571 789.389 100.76 789.389 Q94.9502 789.389 91.8715 784.806 Q88.816 780.199 88.816 771.473 Q88.816 762.723 91.8715 758.139 Q94.9502 753.533 100.76 753.533 Z\" fill=\"#000000\" fill-rule=\"nonzero\" fill-opacity=\"1\" /><path clip-path=\"url(#clip350)\" d=\"M120.922 782.838 L125.807 782.838 L125.807 788.718 L120.922 788.718 L120.922 782.838 Z\" fill=\"#000000\" fill-rule=\"nonzero\" fill-opacity=\"1\" /><path clip-path=\"url(#clip350)\" d=\"M145.992 757.237 Q142.381 757.237 140.552 760.801 Q138.746 764.343 138.746 771.473 Q138.746 778.579 140.552 782.144 Q142.381 785.685 145.992 785.685 Q149.626 785.685 151.431 782.144 Q153.26 778.579 153.26 771.473 Q153.26 764.343 151.431 760.801 Q149.626 757.237 145.992 757.237 M145.992 753.533 Q151.802 753.533 154.857 758.139 Q157.936 762.723 157.936 771.473 Q157.936 780.199 154.857 784.806 Q151.802 789.389 145.992 789.389 Q140.181 789.389 137.103 784.806 Q134.047 780.199 134.047 771.473 Q134.047 762.723 137.103 758.139 Q140.181 753.533 145.992 753.533 Z\" fill=\"#000000\" fill-rule=\"nonzero\" fill-opacity=\"1\" /><path clip-path=\"url(#clip350)\" d=\"M101.756 545.733 Q98.1447 545.733 96.316 549.297 Q94.5104 552.839 94.5104 559.969 Q94.5104 567.075 96.316 570.64 Q98.1447 574.181 101.756 574.181 Q105.39 574.181 107.196 570.64 Q109.024 567.075 109.024 559.969 Q109.024 552.839 107.196 549.297 Q105.39 545.733 101.756 545.733 M101.756 542.029 Q107.566 542.029 110.621 546.635 Q113.7 551.219 113.7 559.969 Q113.7 568.695 110.621 573.302 Q107.566 577.885 101.756 577.885 Q95.9456 577.885 92.8669 573.302 Q89.8114 568.695 89.8114 559.969 Q89.8114 551.219 92.8669 546.635 Q95.9456 542.029 101.756 542.029 Z\" fill=\"#000000\" fill-rule=\"nonzero\" fill-opacity=\"1\" /><path clip-path=\"url(#clip350)\" d=\"M121.918 571.334 L126.802 571.334 L126.802 577.214 L121.918 577.214 L121.918 571.334 Z\" fill=\"#000000\" fill-rule=\"nonzero\" fill-opacity=\"1\" /><path clip-path=\"url(#clip350)\" d=\"M137.033 542.654 L155.39 542.654 L155.39 546.589 L141.316 546.589 L141.316 555.061 Q142.334 554.714 143.353 554.552 Q144.371 554.367 145.39 554.367 Q151.177 554.367 154.556 557.538 Q157.936 560.709 157.936 566.126 Q157.936 571.705 154.464 574.806 Q150.992 577.885 144.672 577.885 Q142.496 577.885 140.228 577.515 Q137.982 577.144 135.575 576.404 L135.575 571.705 Q137.658 572.839 139.881 573.394 Q142.103 573.95 144.58 573.95 Q148.584 573.95 150.922 571.844 Q153.26 569.737 153.26 566.126 Q153.26 562.515 150.922 560.408 Q148.584 558.302 144.58 558.302 Q142.705 558.302 140.83 558.719 Q138.978 559.135 137.033 560.015 L137.033 542.654 Z\" fill=\"#000000\" fill-rule=\"nonzero\" fill-opacity=\"1\" /><path clip-path=\"url(#clip350)\" d=\"M91.5706 361.775 L99.2095 361.775 L99.2095 335.409 L90.8993 337.076 L90.8993 332.816 L99.1632 331.15 L103.839 331.15 L103.839 361.775 L111.478 361.775 L111.478 365.71 L91.5706 365.71 L91.5706 361.775 Z\" fill=\"#000000\" fill-rule=\"nonzero\" fill-opacity=\"1\" /><path clip-path=\"url(#clip350)\" d=\"M120.922 359.83 L125.807 359.83 L125.807 365.71 L120.922 365.71 L120.922 359.83 Z\" fill=\"#000000\" fill-rule=\"nonzero\" fill-opacity=\"1\" /><path clip-path=\"url(#clip350)\" d=\"M145.992 334.229 Q142.381 334.229 140.552 337.793 Q138.746 341.335 138.746 348.465 Q138.746 355.571 140.552 359.136 Q142.381 362.677 145.992 362.677 Q149.626 362.677 151.431 359.136 Q153.26 355.571 153.26 348.465 Q153.26 341.335 151.431 337.793 Q149.626 334.229 145.992 334.229 M145.992 330.525 Q151.802 330.525 154.857 335.131 Q157.936 339.715 157.936 348.465 Q157.936 357.191 154.857 361.798 Q151.802 366.381 145.992 366.381 Q140.181 366.381 137.103 361.798 Q134.047 357.191 134.047 348.465 Q134.047 339.715 137.103 335.131 Q140.181 330.525 145.992 330.525 Z\" fill=\"#000000\" fill-rule=\"nonzero\" fill-opacity=\"1\" /><path clip-path=\"url(#clip350)\" d=\"M92.566 150.271 L100.205 150.271 L100.205 123.905 L91.8947 125.572 L91.8947 121.312 L100.159 119.646 L104.834 119.646 L104.834 150.271 L112.473 150.271 L112.473 154.206 L92.566 154.206 L92.566 150.271 Z\" fill=\"#000000\" fill-rule=\"nonzero\" fill-opacity=\"1\" /><path clip-path=\"url(#clip350)\" d=\"M121.918 148.326 L126.802 148.326 L126.802 154.206 L121.918 154.206 L121.918 148.326 Z\" fill=\"#000000\" fill-rule=\"nonzero\" fill-opacity=\"1\" /><path clip-path=\"url(#clip350)\" d=\"M137.033 119.646 L155.39 119.646 L155.39 123.581 L141.316 123.581 L141.316 132.053 Q142.334 131.706 143.353 131.544 Q144.371 131.359 145.39 131.359 Q151.177 131.359 154.556 134.53 Q157.936 137.701 157.936 143.118 Q157.936 148.697 154.464 151.798 Q150.992 154.877 144.672 154.877 Q142.496 154.877 140.228 154.507 Q137.982 154.136 135.575 153.396 L135.575 148.697 Q137.658 149.831 139.881 150.386 Q142.103 150.942 144.58 150.942 Q148.584 150.942 150.922 148.835 Q153.26 146.729 153.26 143.118 Q153.26 139.507 150.922 137.4 Q148.584 135.294 144.58 135.294 Q142.705 135.294 140.83 135.711 Q138.978 136.127 137.033 137.007 L137.033 119.646 Z\" fill=\"#000000\" fill-rule=\"nonzero\" fill-opacity=\"1\" /><circle clip-path=\"url(#clip352)\" cx=\"1617.84\" cy=\"670.353\" r=\"14.4\" fill=\"#009af9\" fill-rule=\"evenodd\" fill-opacity=\"1\" stroke=\"#000000\" stroke-opacity=\"1\" stroke-width=\"3.2\"/>\n",
       "<circle clip-path=\"url(#clip352)\" cx=\"1669.78\" cy=\"1261.74\" r=\"14.4\" fill=\"#009af9\" fill-rule=\"evenodd\" fill-opacity=\"1\" stroke=\"#000000\" stroke-opacity=\"1\" stroke-width=\"3.2\"/>\n",
       "<circle clip-path=\"url(#clip352)\" cx=\"920.648\" cy=\"1445.72\" r=\"14.4\" fill=\"#009af9\" fill-rule=\"evenodd\" fill-opacity=\"1\" stroke=\"#000000\" stroke-opacity=\"1\" stroke-width=\"3.2\"/>\n",
       "<circle clip-path=\"url(#clip352)\" cx=\"326.124\" cy=\"1022.63\" r=\"14.4\" fill=\"#009af9\" fill-rule=\"evenodd\" fill-opacity=\"1\" stroke=\"#000000\" stroke-opacity=\"1\" stroke-width=\"3.2\"/>\n",
       "<circle clip-path=\"url(#clip352)\" cx=\"1566.69\" cy=\"87.9763\" r=\"14.4\" fill=\"#009af9\" fill-rule=\"evenodd\" fill-opacity=\"1\" stroke=\"#000000\" stroke-opacity=\"1\" stroke-width=\"3.2\"/>\n",
       "<circle clip-path=\"url(#clip352)\" cx=\"2291.66\" cy=\"436.239\" r=\"14.4\" fill=\"#009af9\" fill-rule=\"evenodd\" fill-opacity=\"1\" stroke=\"#000000\" stroke-opacity=\"1\" stroke-width=\"3.2\"/>\n",
       "<circle clip-path=\"url(#clip352)\" cx=\"2274.66\" cy=\"1015.36\" r=\"14.4\" fill=\"#009af9\" fill-rule=\"evenodd\" fill-opacity=\"1\" stroke=\"#000000\" stroke-opacity=\"1\" stroke-width=\"3.2\"/>\n",
       "<circle clip-path=\"url(#clip352)\" cx=\"255.035\" cy=\"520.804\" r=\"14.4\" fill=\"#009af9\" fill-rule=\"evenodd\" fill-opacity=\"1\" stroke=\"#000000\" stroke-opacity=\"1\" stroke-width=\"3.2\"/>\n",
       "<circle clip-path=\"url(#clip352)\" cx=\"1046.2\" cy=\"937.585\" r=\"14.4\" fill=\"#009af9\" fill-rule=\"evenodd\" fill-opacity=\"1\" stroke=\"#000000\" stroke-opacity=\"1\" stroke-width=\"3.2\"/>\n",
       "<circle clip-path=\"url(#clip352)\" cx=\"962.254\" cy=\"371.195\" r=\"14.4\" fill=\"#009af9\" fill-rule=\"evenodd\" fill-opacity=\"1\" stroke=\"#000000\" stroke-opacity=\"1\" stroke-width=\"3.2\"/>\n",
       "</svg>\n"
      ],
      "text/html": [
       "<?xml version=\"1.0\" encoding=\"utf-8\"?>\n",
       "<svg xmlns=\"http://www.w3.org/2000/svg\" xmlns:xlink=\"http://www.w3.org/1999/xlink\" width=\"600\" height=\"400\" viewBox=\"0 0 2400 1600\">\n",
       "<defs>\n",
       "  <clipPath id=\"clip400\">\n",
       "    <rect x=\"0\" y=\"0\" width=\"2400\" height=\"1600\"/>\n",
       "  </clipPath>\n",
       "</defs>\n",
       "<path clip-path=\"url(#clip400)\" d=\"M0 1600 L2400 1600 L2400 0 L0 0  Z\" fill=\"#ffffff\" fill-rule=\"evenodd\" fill-opacity=\"1\"/>\n",
       "<defs>\n",
       "  <clipPath id=\"clip401\">\n",
       "    <rect x=\"480\" y=\"0\" width=\"1681\" height=\"1600\"/>\n",
       "  </clipPath>\n",
       "</defs>\n",
       "<path clip-path=\"url(#clip400)\" d=\"M193.936 1486.45 L2352.76 1486.45 L2352.76 47.2441 L193.936 47.2441  Z\" fill=\"#ffffff\" fill-rule=\"evenodd\" fill-opacity=\"1\"/>\n",
       "<defs>\n",
       "  <clipPath id=\"clip402\">\n",
       "    <rect x=\"193\" y=\"47\" width=\"2160\" height=\"1440\"/>\n",
       "  </clipPath>\n",
       "</defs>\n",
       "<polyline clip-path=\"url(#clip402)\" style=\"stroke:#000000; stroke-linecap:round; stroke-linejoin:round; stroke-width:2; stroke-opacity:0.1; fill:none\" points=\"226.032,1486.45 226.032,47.2441 \"/>\n",
       "<polyline clip-path=\"url(#clip402)\" style=\"stroke:#000000; stroke-linecap:round; stroke-linejoin:round; stroke-width:2; stroke-opacity:0.1; fill:none\" points=\"574.306,1486.45 574.306,47.2441 \"/>\n",
       "<polyline clip-path=\"url(#clip402)\" style=\"stroke:#000000; stroke-linecap:round; stroke-linejoin:round; stroke-width:2; stroke-opacity:0.1; fill:none\" points=\"922.58,1486.45 922.58,47.2441 \"/>\n",
       "<polyline clip-path=\"url(#clip402)\" style=\"stroke:#000000; stroke-linecap:round; stroke-linejoin:round; stroke-width:2; stroke-opacity:0.1; fill:none\" points=\"1270.85,1486.45 1270.85,47.2441 \"/>\n",
       "<polyline clip-path=\"url(#clip402)\" style=\"stroke:#000000; stroke-linecap:round; stroke-linejoin:round; stroke-width:2; stroke-opacity:0.1; fill:none\" points=\"1619.13,1486.45 1619.13,47.2441 \"/>\n",
       "<polyline clip-path=\"url(#clip402)\" style=\"stroke:#000000; stroke-linecap:round; stroke-linejoin:round; stroke-width:2; stroke-opacity:0.1; fill:none\" points=\"1967.4,1486.45 1967.4,47.2441 \"/>\n",
       "<polyline clip-path=\"url(#clip402)\" style=\"stroke:#000000; stroke-linecap:round; stroke-linejoin:round; stroke-width:2; stroke-opacity:0.1; fill:none\" points=\"2315.68,1486.45 2315.68,47.2441 \"/>\n",
       "<polyline clip-path=\"url(#clip400)\" style=\"stroke:#000000; stroke-linecap:round; stroke-linejoin:round; stroke-width:4; stroke-opacity:1; fill:none\" points=\"193.936,1486.45 2352.76,1486.45 \"/>\n",
       "<polyline clip-path=\"url(#clip400)\" style=\"stroke:#000000; stroke-linecap:round; stroke-linejoin:round; stroke-width:4; stroke-opacity:1; fill:none\" points=\"226.032,1486.45 226.032,1467.55 \"/>\n",
       "<polyline clip-path=\"url(#clip400)\" style=\"stroke:#000000; stroke-linecap:round; stroke-linejoin:round; stroke-width:4; stroke-opacity:1; fill:none\" points=\"574.306,1486.45 574.306,1467.55 \"/>\n",
       "<polyline clip-path=\"url(#clip400)\" style=\"stroke:#000000; stroke-linecap:round; stroke-linejoin:round; stroke-width:4; stroke-opacity:1; fill:none\" points=\"922.58,1486.45 922.58,1467.55 \"/>\n",
       "<polyline clip-path=\"url(#clip400)\" style=\"stroke:#000000; stroke-linecap:round; stroke-linejoin:round; stroke-width:4; stroke-opacity:1; fill:none\" points=\"1270.85,1486.45 1270.85,1467.55 \"/>\n",
       "<polyline clip-path=\"url(#clip400)\" style=\"stroke:#000000; stroke-linecap:round; stroke-linejoin:round; stroke-width:4; stroke-opacity:1; fill:none\" points=\"1619.13,1486.45 1619.13,1467.55 \"/>\n",
       "<polyline clip-path=\"url(#clip400)\" style=\"stroke:#000000; stroke-linecap:round; stroke-linejoin:round; stroke-width:4; stroke-opacity:1; fill:none\" points=\"1967.4,1486.45 1967.4,1467.55 \"/>\n",
       "<polyline clip-path=\"url(#clip400)\" style=\"stroke:#000000; stroke-linecap:round; stroke-linejoin:round; stroke-width:4; stroke-opacity:1; fill:none\" points=\"2315.68,1486.45 2315.68,1467.55 \"/>\n",
       "<path clip-path=\"url(#clip400)\" d=\"M173.058 1532.02 L202.733 1532.02 L202.733 1535.95 L173.058 1535.95 L173.058 1532.02 Z\" fill=\"#000000\" fill-rule=\"nonzero\" fill-opacity=\"1\" /><path clip-path=\"url(#clip400)\" d=\"M213.636 1544.91 L221.275 1544.91 L221.275 1518.55 L212.965 1520.21 L212.965 1515.95 L221.229 1514.29 L225.904 1514.29 L225.904 1544.91 L233.543 1544.91 L233.543 1548.85 L213.636 1548.85 L213.636 1544.91 Z\" fill=\"#000000\" fill-rule=\"nonzero\" fill-opacity=\"1\" /><path clip-path=\"url(#clip400)\" d=\"M242.988 1542.97 L247.872 1542.97 L247.872 1548.85 L242.988 1548.85 L242.988 1542.97 Z\" fill=\"#000000\" fill-rule=\"nonzero\" fill-opacity=\"1\" /><path clip-path=\"url(#clip400)\" d=\"M258.103 1514.29 L276.46 1514.29 L276.46 1518.22 L262.386 1518.22 L262.386 1526.7 Q263.404 1526.35 264.423 1526.19 Q265.441 1526 266.46 1526 Q272.247 1526 275.626 1529.17 Q279.006 1532.34 279.006 1537.76 Q279.006 1543.34 275.534 1546.44 Q272.062 1549.52 265.742 1549.52 Q263.566 1549.52 261.298 1549.15 Q259.052 1548.78 256.645 1548.04 L256.645 1543.34 Q258.728 1544.47 260.951 1545.03 Q263.173 1545.58 265.65 1545.58 Q269.654 1545.58 271.992 1543.48 Q274.33 1541.37 274.33 1537.76 Q274.33 1534.15 271.992 1532.04 Q269.654 1529.94 265.65 1529.94 Q263.775 1529.94 261.9 1530.35 Q260.048 1530.77 258.103 1531.65 L258.103 1514.29 Z\" fill=\"#000000\" fill-rule=\"nonzero\" fill-opacity=\"1\" /><path clip-path=\"url(#clip400)\" d=\"M520.834 1532.02 L550.51 1532.02 L550.51 1535.95 L520.834 1535.95 L520.834 1532.02 Z\" fill=\"#000000\" fill-rule=\"nonzero\" fill-opacity=\"1\" /><path clip-path=\"url(#clip400)\" d=\"M561.413 1544.91 L569.051 1544.91 L569.051 1518.55 L560.741 1520.21 L560.741 1515.95 L569.005 1514.29 L573.681 1514.29 L573.681 1544.91 L581.32 1544.91 L581.32 1548.85 L561.413 1548.85 L561.413 1544.91 Z\" fill=\"#000000\" fill-rule=\"nonzero\" fill-opacity=\"1\" /><path clip-path=\"url(#clip400)\" d=\"M590.764 1542.97 L595.649 1542.97 L595.649 1548.85 L590.764 1548.85 L590.764 1542.97 Z\" fill=\"#000000\" fill-rule=\"nonzero\" fill-opacity=\"1\" /><path clip-path=\"url(#clip400)\" d=\"M615.834 1517.37 Q612.222 1517.37 610.394 1520.93 Q608.588 1524.47 608.588 1531.6 Q608.588 1538.71 610.394 1542.27 Q612.222 1545.82 615.834 1545.82 Q619.468 1545.82 621.273 1542.27 Q623.102 1538.71 623.102 1531.6 Q623.102 1524.47 621.273 1520.93 Q619.468 1517.37 615.834 1517.37 M615.834 1513.66 Q621.644 1513.66 624.699 1518.27 Q627.778 1522.85 627.778 1531.6 Q627.778 1540.33 624.699 1544.94 Q621.644 1549.52 615.834 1549.52 Q610.023 1549.52 606.945 1544.94 Q603.889 1540.33 603.889 1531.6 Q603.889 1522.85 606.945 1518.27 Q610.023 1513.66 615.834 1513.66 Z\" fill=\"#000000\" fill-rule=\"nonzero\" fill-opacity=\"1\" /><path clip-path=\"url(#clip400)\" d=\"M869.606 1532.02 L899.282 1532.02 L899.282 1535.95 L869.606 1535.95 L869.606 1532.02 Z\" fill=\"#000000\" fill-rule=\"nonzero\" fill-opacity=\"1\" /><path clip-path=\"url(#clip400)\" d=\"M919.374 1517.37 Q915.763 1517.37 913.935 1520.93 Q912.129 1524.47 912.129 1531.6 Q912.129 1538.71 913.935 1542.27 Q915.763 1545.82 919.374 1545.82 Q923.009 1545.82 924.814 1542.27 Q926.643 1538.71 926.643 1531.6 Q926.643 1524.47 924.814 1520.93 Q923.009 1517.37 919.374 1517.37 M919.374 1513.66 Q925.184 1513.66 928.24 1518.27 Q931.319 1522.85 931.319 1531.6 Q931.319 1540.33 928.24 1544.94 Q925.184 1549.52 919.374 1549.52 Q913.564 1549.52 910.485 1544.94 Q907.43 1540.33 907.43 1531.6 Q907.43 1522.85 910.485 1518.27 Q913.564 1513.66 919.374 1513.66 Z\" fill=\"#000000\" fill-rule=\"nonzero\" fill-opacity=\"1\" /><path clip-path=\"url(#clip400)\" d=\"M939.536 1542.97 L944.42 1542.97 L944.42 1548.85 L939.536 1548.85 L939.536 1542.97 Z\" fill=\"#000000\" fill-rule=\"nonzero\" fill-opacity=\"1\" /><path clip-path=\"url(#clip400)\" d=\"M954.652 1514.29 L973.008 1514.29 L973.008 1518.22 L958.934 1518.22 L958.934 1526.7 Q959.953 1526.35 960.971 1526.19 Q961.99 1526 963.008 1526 Q968.795 1526 972.175 1529.17 Q975.555 1532.34 975.555 1537.76 Q975.555 1543.34 972.082 1546.44 Q968.61 1549.52 962.291 1549.52 Q960.115 1549.52 957.846 1549.15 Q955.601 1548.78 953.194 1548.04 L953.194 1543.34 Q955.277 1544.47 957.499 1545.03 Q959.721 1545.58 962.198 1545.58 Q966.203 1545.58 968.541 1543.48 Q970.879 1541.37 970.879 1537.76 Q970.879 1534.15 968.541 1532.04 Q966.203 1529.94 962.198 1529.94 Q960.323 1529.94 958.448 1530.35 Q956.596 1530.77 954.652 1531.65 L954.652 1514.29 Z\" fill=\"#000000\" fill-rule=\"nonzero\" fill-opacity=\"1\" /><path clip-path=\"url(#clip400)\" d=\"M1248.24 1517.37 Q1244.63 1517.37 1242.8 1520.93 Q1240.99 1524.47 1240.99 1531.6 Q1240.99 1538.71 1242.8 1542.27 Q1244.63 1545.82 1248.24 1545.82 Q1251.87 1545.82 1253.68 1542.27 Q1255.51 1538.71 1255.51 1531.6 Q1255.51 1524.47 1253.68 1520.93 Q1251.87 1517.37 1248.24 1517.37 M1248.24 1513.66 Q1254.05 1513.66 1257.1 1518.27 Q1260.18 1522.85 1260.18 1531.6 Q1260.18 1540.33 1257.1 1544.94 Q1254.05 1549.52 1248.24 1549.52 Q1242.43 1549.52 1239.35 1544.94 Q1236.29 1540.33 1236.29 1531.6 Q1236.29 1522.85 1239.35 1518.27 Q1242.43 1513.66 1248.24 1513.66 Z\" fill=\"#000000\" fill-rule=\"nonzero\" fill-opacity=\"1\" /><path clip-path=\"url(#clip400)\" d=\"M1268.4 1542.97 L1273.29 1542.97 L1273.29 1548.85 L1268.4 1548.85 L1268.4 1542.97 Z\" fill=\"#000000\" fill-rule=\"nonzero\" fill-opacity=\"1\" /><path clip-path=\"url(#clip400)\" d=\"M1293.47 1517.37 Q1289.86 1517.37 1288.03 1520.93 Q1286.22 1524.47 1286.22 1531.6 Q1286.22 1538.71 1288.03 1542.27 Q1289.86 1545.82 1293.47 1545.82 Q1297.1 1545.82 1298.91 1542.27 Q1300.74 1538.71 1300.74 1531.6 Q1300.74 1524.47 1298.91 1520.93 Q1297.1 1517.37 1293.47 1517.37 M1293.47 1513.66 Q1299.28 1513.66 1302.34 1518.27 Q1305.41 1522.85 1305.41 1531.6 Q1305.41 1540.33 1302.34 1544.94 Q1299.28 1549.52 1293.47 1549.52 Q1287.66 1549.52 1284.58 1544.94 Q1281.53 1540.33 1281.53 1531.6 Q1281.53 1522.85 1284.58 1518.27 Q1287.66 1513.66 1293.47 1513.66 Z\" fill=\"#000000\" fill-rule=\"nonzero\" fill-opacity=\"1\" /><path clip-path=\"url(#clip400)\" d=\"M1597.01 1517.37 Q1593.4 1517.37 1591.57 1520.93 Q1589.77 1524.47 1589.77 1531.6 Q1589.77 1538.71 1591.57 1542.27 Q1593.4 1545.82 1597.01 1545.82 Q1600.65 1545.82 1602.45 1542.27 Q1604.28 1538.71 1604.28 1531.6 Q1604.28 1524.47 1602.45 1520.93 Q1600.65 1517.37 1597.01 1517.37 M1597.01 1513.66 Q1602.82 1513.66 1605.88 1518.27 Q1608.96 1522.85 1608.96 1531.6 Q1608.96 1540.33 1605.88 1544.94 Q1602.82 1549.52 1597.01 1549.52 Q1591.2 1549.52 1588.12 1544.94 Q1585.07 1540.33 1585.07 1531.6 Q1585.07 1522.85 1588.12 1518.27 Q1591.2 1513.66 1597.01 1513.66 Z\" fill=\"#000000\" fill-rule=\"nonzero\" fill-opacity=\"1\" /><path clip-path=\"url(#clip400)\" d=\"M1617.17 1542.97 L1622.06 1542.97 L1622.06 1548.85 L1617.17 1548.85 L1617.17 1542.97 Z\" fill=\"#000000\" fill-rule=\"nonzero\" fill-opacity=\"1\" /><path clip-path=\"url(#clip400)\" d=\"M1632.29 1514.29 L1650.64 1514.29 L1650.64 1518.22 L1636.57 1518.22 L1636.57 1526.7 Q1637.59 1526.35 1638.61 1526.19 Q1639.63 1526 1640.64 1526 Q1646.43 1526 1649.81 1529.17 Q1653.19 1532.34 1653.19 1537.76 Q1653.19 1543.34 1649.72 1546.44 Q1646.25 1549.52 1639.93 1549.52 Q1637.75 1549.52 1635.48 1549.15 Q1633.24 1548.78 1630.83 1548.04 L1630.83 1543.34 Q1632.91 1544.47 1635.14 1545.03 Q1637.36 1545.58 1639.83 1545.58 Q1643.84 1545.58 1646.18 1543.48 Q1648.52 1541.37 1648.52 1537.76 Q1648.52 1534.15 1646.18 1532.04 Q1643.84 1529.94 1639.83 1529.94 Q1637.96 1529.94 1636.08 1530.35 Q1634.23 1530.77 1632.29 1531.65 L1632.29 1514.29 Z\" fill=\"#000000\" fill-rule=\"nonzero\" fill-opacity=\"1\" /><path clip-path=\"url(#clip400)\" d=\"M1934.56 1544.91 L1942.19 1544.91 L1942.19 1518.55 L1933.88 1520.21 L1933.88 1515.95 L1942.15 1514.29 L1946.82 1514.29 L1946.82 1544.91 L1954.46 1544.91 L1954.46 1548.85 L1934.56 1548.85 L1934.56 1544.91 Z\" fill=\"#000000\" fill-rule=\"nonzero\" fill-opacity=\"1\" /><path clip-path=\"url(#clip400)\" d=\"M1963.91 1542.97 L1968.79 1542.97 L1968.79 1548.85 L1963.91 1548.85 L1963.91 1542.97 Z\" fill=\"#000000\" fill-rule=\"nonzero\" fill-opacity=\"1\" /><path clip-path=\"url(#clip400)\" d=\"M1988.98 1517.37 Q1985.37 1517.37 1983.54 1520.93 Q1981.73 1524.47 1981.73 1531.6 Q1981.73 1538.71 1983.54 1542.27 Q1985.37 1545.82 1988.98 1545.82 Q1992.61 1545.82 1994.42 1542.27 Q1996.25 1538.71 1996.25 1531.6 Q1996.25 1524.47 1994.42 1520.93 Q1992.61 1517.37 1988.98 1517.37 M1988.98 1513.66 Q1994.79 1513.66 1997.84 1518.27 Q2000.92 1522.85 2000.92 1531.6 Q2000.92 1540.33 1997.84 1544.94 Q1994.79 1549.52 1988.98 1549.52 Q1983.17 1549.52 1980.09 1544.94 Q1977.03 1540.33 1977.03 1531.6 Q1977.03 1522.85 1980.09 1518.27 Q1983.17 1513.66 1988.98 1513.66 Z\" fill=\"#000000\" fill-rule=\"nonzero\" fill-opacity=\"1\" /><path clip-path=\"url(#clip400)\" d=\"M2283.33 1544.91 L2290.97 1544.91 L2290.97 1518.55 L2282.66 1520.21 L2282.66 1515.95 L2290.92 1514.29 L2295.6 1514.29 L2295.6 1544.91 L2303.24 1544.91 L2303.24 1548.85 L2283.33 1548.85 L2283.33 1544.91 Z\" fill=\"#000000\" fill-rule=\"nonzero\" fill-opacity=\"1\" /><path clip-path=\"url(#clip400)\" d=\"M2312.68 1542.97 L2317.56 1542.97 L2317.56 1548.85 L2312.68 1548.85 L2312.68 1542.97 Z\" fill=\"#000000\" fill-rule=\"nonzero\" fill-opacity=\"1\" /><path clip-path=\"url(#clip400)\" d=\"M2327.8 1514.29 L2346.15 1514.29 L2346.15 1518.22 L2332.08 1518.22 L2332.08 1526.7 Q2333.1 1526.35 2334.11 1526.19 Q2335.13 1526 2336.15 1526 Q2341.94 1526 2345.32 1529.17 Q2348.7 1532.34 2348.7 1537.76 Q2348.7 1543.34 2345.23 1546.44 Q2341.75 1549.52 2335.43 1549.52 Q2333.26 1549.52 2330.99 1549.15 Q2328.74 1548.78 2326.34 1548.04 L2326.34 1543.34 Q2328.42 1544.47 2330.64 1545.03 Q2332.86 1545.58 2335.34 1545.58 Q2339.35 1545.58 2341.68 1543.48 Q2344.02 1541.37 2344.02 1537.76 Q2344.02 1534.15 2341.68 1532.04 Q2339.35 1529.94 2335.34 1529.94 Q2333.47 1529.94 2331.59 1530.35 Q2329.74 1530.77 2327.8 1531.65 L2327.8 1514.29 Z\" fill=\"#000000\" fill-rule=\"nonzero\" fill-opacity=\"1\" /><polyline clip-path=\"url(#clip402)\" style=\"stroke:#000000; stroke-linecap:round; stroke-linejoin:round; stroke-width:2; stroke-opacity:0.1; fill:none\" points=\"193.936,1405.95 2352.76,1405.95 \"/>\n",
       "<polyline clip-path=\"url(#clip402)\" style=\"stroke:#000000; stroke-linecap:round; stroke-linejoin:round; stroke-width:2; stroke-opacity:0.1; fill:none\" points=\"193.936,1194.45 2352.76,1194.45 \"/>\n",
       "<polyline clip-path=\"url(#clip402)\" style=\"stroke:#000000; stroke-linecap:round; stroke-linejoin:round; stroke-width:2; stroke-opacity:0.1; fill:none\" points=\"193.936,982.942 2352.76,982.942 \"/>\n",
       "<polyline clip-path=\"url(#clip402)\" style=\"stroke:#000000; stroke-linecap:round; stroke-linejoin:round; stroke-width:2; stroke-opacity:0.1; fill:none\" points=\"193.936,771.438 2352.76,771.438 \"/>\n",
       "<polyline clip-path=\"url(#clip402)\" style=\"stroke:#000000; stroke-linecap:round; stroke-linejoin:round; stroke-width:2; stroke-opacity:0.1; fill:none\" points=\"193.936,559.934 2352.76,559.934 \"/>\n",
       "<polyline clip-path=\"url(#clip402)\" style=\"stroke:#000000; stroke-linecap:round; stroke-linejoin:round; stroke-width:2; stroke-opacity:0.1; fill:none\" points=\"193.936,348.43 2352.76,348.43 \"/>\n",
       "<polyline clip-path=\"url(#clip402)\" style=\"stroke:#000000; stroke-linecap:round; stroke-linejoin:round; stroke-width:2; stroke-opacity:0.1; fill:none\" points=\"193.936,136.926 2352.76,136.926 \"/>\n",
       "<polyline clip-path=\"url(#clip400)\" style=\"stroke:#000000; stroke-linecap:round; stroke-linejoin:round; stroke-width:4; stroke-opacity:1; fill:none\" points=\"193.936,1486.45 193.936,47.2441 \"/>\n",
       "<polyline clip-path=\"url(#clip400)\" style=\"stroke:#000000; stroke-linecap:round; stroke-linejoin:round; stroke-width:4; stroke-opacity:1; fill:none\" points=\"193.936,1405.95 212.834,1405.95 \"/>\n",
       "<polyline clip-path=\"url(#clip400)\" style=\"stroke:#000000; stroke-linecap:round; stroke-linejoin:round; stroke-width:4; stroke-opacity:1; fill:none\" points=\"193.936,1194.45 212.834,1194.45 \"/>\n",
       "<polyline clip-path=\"url(#clip400)\" style=\"stroke:#000000; stroke-linecap:round; stroke-linejoin:round; stroke-width:4; stroke-opacity:1; fill:none\" points=\"193.936,982.942 212.834,982.942 \"/>\n",
       "<polyline clip-path=\"url(#clip400)\" style=\"stroke:#000000; stroke-linecap:round; stroke-linejoin:round; stroke-width:4; stroke-opacity:1; fill:none\" points=\"193.936,771.438 212.834,771.438 \"/>\n",
       "<polyline clip-path=\"url(#clip400)\" style=\"stroke:#000000; stroke-linecap:round; stroke-linejoin:round; stroke-width:4; stroke-opacity:1; fill:none\" points=\"193.936,559.934 212.834,559.934 \"/>\n",
       "<polyline clip-path=\"url(#clip400)\" style=\"stroke:#000000; stroke-linecap:round; stroke-linejoin:round; stroke-width:4; stroke-opacity:1; fill:none\" points=\"193.936,348.43 212.834,348.43 \"/>\n",
       "<polyline clip-path=\"url(#clip400)\" style=\"stroke:#000000; stroke-linecap:round; stroke-linejoin:round; stroke-width:4; stroke-opacity:1; fill:none\" points=\"193.936,136.926 212.834,136.926 \"/>\n",
       "<path clip-path=\"url(#clip400)\" d=\"M51.9875 1406.4 L81.6633 1406.4 L81.6633 1410.34 L51.9875 1410.34 L51.9875 1406.4 Z\" fill=\"#000000\" fill-rule=\"nonzero\" fill-opacity=\"1\" /><path clip-path=\"url(#clip400)\" d=\"M92.566 1419.29 L100.205 1419.29 L100.205 1392.93 L91.8947 1394.6 L91.8947 1390.34 L100.159 1388.67 L104.834 1388.67 L104.834 1419.29 L112.473 1419.29 L112.473 1423.23 L92.566 1423.23 L92.566 1419.29 Z\" fill=\"#000000\" fill-rule=\"nonzero\" fill-opacity=\"1\" /><path clip-path=\"url(#clip400)\" d=\"M121.918 1417.35 L126.802 1417.35 L126.802 1423.23 L121.918 1423.23 L121.918 1417.35 Z\" fill=\"#000000\" fill-rule=\"nonzero\" fill-opacity=\"1\" /><path clip-path=\"url(#clip400)\" d=\"M137.033 1388.67 L155.39 1388.67 L155.39 1392.61 L141.316 1392.61 L141.316 1401.08 Q142.334 1400.73 143.353 1400.57 Q144.371 1400.38 145.39 1400.38 Q151.177 1400.38 154.556 1403.55 Q157.936 1406.73 157.936 1412.14 Q157.936 1417.72 154.464 1420.82 Q150.992 1423.9 144.672 1423.9 Q142.496 1423.9 140.228 1423.53 Q137.982 1423.16 135.575 1422.42 L135.575 1417.72 Q137.658 1418.86 139.881 1419.41 Q142.103 1419.97 144.58 1419.97 Q148.584 1419.97 150.922 1417.86 Q153.26 1415.75 153.26 1412.14 Q153.26 1408.53 150.922 1406.42 Q148.584 1404.32 144.58 1404.32 Q142.705 1404.32 140.83 1404.73 Q138.978 1405.15 137.033 1406.03 L137.033 1388.67 Z\" fill=\"#000000\" fill-rule=\"nonzero\" fill-opacity=\"1\" /><path clip-path=\"url(#clip400)\" d=\"M50.9921 1194.9 L80.6679 1194.9 L80.6679 1198.83 L50.9921 1198.83 L50.9921 1194.9 Z\" fill=\"#000000\" fill-rule=\"nonzero\" fill-opacity=\"1\" /><path clip-path=\"url(#clip400)\" d=\"M91.5706 1207.79 L99.2095 1207.79 L99.2095 1181.43 L90.8993 1183.09 L90.8993 1178.83 L99.1632 1177.17 L103.839 1177.17 L103.839 1207.79 L111.478 1207.79 L111.478 1211.73 L91.5706 1211.73 L91.5706 1207.79 Z\" fill=\"#000000\" fill-rule=\"nonzero\" fill-opacity=\"1\" /><path clip-path=\"url(#clip400)\" d=\"M120.922 1205.85 L125.807 1205.85 L125.807 1211.73 L120.922 1211.73 L120.922 1205.85 Z\" fill=\"#000000\" fill-rule=\"nonzero\" fill-opacity=\"1\" /><path clip-path=\"url(#clip400)\" d=\"M145.992 1180.24 Q142.381 1180.24 140.552 1183.81 Q138.746 1187.35 138.746 1194.48 Q138.746 1201.59 140.552 1205.15 Q142.381 1208.69 145.992 1208.69 Q149.626 1208.69 151.431 1205.15 Q153.26 1201.59 153.26 1194.48 Q153.26 1187.35 151.431 1183.81 Q149.626 1180.24 145.992 1180.24 M145.992 1176.54 Q151.802 1176.54 154.857 1181.15 Q157.936 1185.73 157.936 1194.48 Q157.936 1203.21 154.857 1207.81 Q151.802 1212.4 145.992 1212.4 Q140.181 1212.4 137.103 1207.81 Q134.047 1203.21 134.047 1194.48 Q134.047 1185.73 137.103 1181.15 Q140.181 1176.54 145.992 1176.54 Z\" fill=\"#000000\" fill-rule=\"nonzero\" fill-opacity=\"1\" /><path clip-path=\"url(#clip400)\" d=\"M51.9875 983.393 L81.6633 983.393 L81.6633 987.328 L51.9875 987.328 L51.9875 983.393 Z\" fill=\"#000000\" fill-rule=\"nonzero\" fill-opacity=\"1\" /><path clip-path=\"url(#clip400)\" d=\"M101.756 968.741 Q98.1447 968.741 96.316 972.305 Q94.5104 975.847 94.5104 982.977 Q94.5104 990.083 96.316 993.648 Q98.1447 997.19 101.756 997.19 Q105.39 997.19 107.196 993.648 Q109.024 990.083 109.024 982.977 Q109.024 975.847 107.196 972.305 Q105.39 968.741 101.756 968.741 M101.756 965.037 Q107.566 965.037 110.621 969.643 Q113.7 974.227 113.7 982.977 Q113.7 991.703 110.621 996.31 Q107.566 1000.89 101.756 1000.89 Q95.9456 1000.89 92.8669 996.31 Q89.8114 991.703 89.8114 982.977 Q89.8114 974.227 92.8669 969.643 Q95.9456 965.037 101.756 965.037 Z\" fill=\"#000000\" fill-rule=\"nonzero\" fill-opacity=\"1\" /><path clip-path=\"url(#clip400)\" d=\"M121.918 994.342 L126.802 994.342 L126.802 1000.22 L121.918 1000.22 L121.918 994.342 Z\" fill=\"#000000\" fill-rule=\"nonzero\" fill-opacity=\"1\" /><path clip-path=\"url(#clip400)\" d=\"M137.033 965.662 L155.39 965.662 L155.39 969.597 L141.316 969.597 L141.316 978.069 Q142.334 977.722 143.353 977.56 Q144.371 977.375 145.39 977.375 Q151.177 977.375 154.556 980.546 Q157.936 983.717 157.936 989.134 Q157.936 994.713 154.464 997.815 Q150.992 1000.89 144.672 1000.89 Q142.496 1000.89 140.228 1000.52 Q137.982 1000.15 135.575 999.412 L135.575 994.713 Q137.658 995.847 139.881 996.402 Q142.103 996.958 144.58 996.958 Q148.584 996.958 150.922 994.852 Q153.26 992.745 153.26 989.134 Q153.26 985.523 150.922 983.416 Q148.584 981.31 144.58 981.31 Q142.705 981.31 140.83 981.727 Q138.978 982.143 137.033 983.023 L137.033 965.662 Z\" fill=\"#000000\" fill-rule=\"nonzero\" fill-opacity=\"1\" /><path clip-path=\"url(#clip400)\" d=\"M100.76 757.237 Q97.1493 757.237 95.3206 760.801 Q93.515 764.343 93.515 771.473 Q93.515 778.579 95.3206 782.144 Q97.1493 785.685 100.76 785.685 Q104.395 785.685 106.2 782.144 Q108.029 778.579 108.029 771.473 Q108.029 764.343 106.2 760.801 Q104.395 757.237 100.76 757.237 M100.76 753.533 Q106.571 753.533 109.626 758.139 Q112.705 762.723 112.705 771.473 Q112.705 780.199 109.626 784.806 Q106.571 789.389 100.76 789.389 Q94.9502 789.389 91.8715 784.806 Q88.816 780.199 88.816 771.473 Q88.816 762.723 91.8715 758.139 Q94.9502 753.533 100.76 753.533 Z\" fill=\"#000000\" fill-rule=\"nonzero\" fill-opacity=\"1\" /><path clip-path=\"url(#clip400)\" d=\"M120.922 782.838 L125.807 782.838 L125.807 788.718 L120.922 788.718 L120.922 782.838 Z\" fill=\"#000000\" fill-rule=\"nonzero\" fill-opacity=\"1\" /><path clip-path=\"url(#clip400)\" d=\"M145.992 757.237 Q142.381 757.237 140.552 760.801 Q138.746 764.343 138.746 771.473 Q138.746 778.579 140.552 782.144 Q142.381 785.685 145.992 785.685 Q149.626 785.685 151.431 782.144 Q153.26 778.579 153.26 771.473 Q153.26 764.343 151.431 760.801 Q149.626 757.237 145.992 757.237 M145.992 753.533 Q151.802 753.533 154.857 758.139 Q157.936 762.723 157.936 771.473 Q157.936 780.199 154.857 784.806 Q151.802 789.389 145.992 789.389 Q140.181 789.389 137.103 784.806 Q134.047 780.199 134.047 771.473 Q134.047 762.723 137.103 758.139 Q140.181 753.533 145.992 753.533 Z\" fill=\"#000000\" fill-rule=\"nonzero\" fill-opacity=\"1\" /><path clip-path=\"url(#clip400)\" d=\"M101.756 545.733 Q98.1447 545.733 96.316 549.297 Q94.5104 552.839 94.5104 559.969 Q94.5104 567.075 96.316 570.64 Q98.1447 574.181 101.756 574.181 Q105.39 574.181 107.196 570.64 Q109.024 567.075 109.024 559.969 Q109.024 552.839 107.196 549.297 Q105.39 545.733 101.756 545.733 M101.756 542.029 Q107.566 542.029 110.621 546.635 Q113.7 551.219 113.7 559.969 Q113.7 568.695 110.621 573.302 Q107.566 577.885 101.756 577.885 Q95.9456 577.885 92.8669 573.302 Q89.8114 568.695 89.8114 559.969 Q89.8114 551.219 92.8669 546.635 Q95.9456 542.029 101.756 542.029 Z\" fill=\"#000000\" fill-rule=\"nonzero\" fill-opacity=\"1\" /><path clip-path=\"url(#clip400)\" d=\"M121.918 571.334 L126.802 571.334 L126.802 577.214 L121.918 577.214 L121.918 571.334 Z\" fill=\"#000000\" fill-rule=\"nonzero\" fill-opacity=\"1\" /><path clip-path=\"url(#clip400)\" d=\"M137.033 542.654 L155.39 542.654 L155.39 546.589 L141.316 546.589 L141.316 555.061 Q142.334 554.714 143.353 554.552 Q144.371 554.367 145.39 554.367 Q151.177 554.367 154.556 557.538 Q157.936 560.709 157.936 566.126 Q157.936 571.705 154.464 574.806 Q150.992 577.885 144.672 577.885 Q142.496 577.885 140.228 577.515 Q137.982 577.144 135.575 576.404 L135.575 571.705 Q137.658 572.839 139.881 573.394 Q142.103 573.95 144.58 573.95 Q148.584 573.95 150.922 571.844 Q153.26 569.737 153.26 566.126 Q153.26 562.515 150.922 560.408 Q148.584 558.302 144.58 558.302 Q142.705 558.302 140.83 558.719 Q138.978 559.135 137.033 560.015 L137.033 542.654 Z\" fill=\"#000000\" fill-rule=\"nonzero\" fill-opacity=\"1\" /><path clip-path=\"url(#clip400)\" d=\"M91.5706 361.775 L99.2095 361.775 L99.2095 335.409 L90.8993 337.076 L90.8993 332.816 L99.1632 331.15 L103.839 331.15 L103.839 361.775 L111.478 361.775 L111.478 365.71 L91.5706 365.71 L91.5706 361.775 Z\" fill=\"#000000\" fill-rule=\"nonzero\" fill-opacity=\"1\" /><path clip-path=\"url(#clip400)\" d=\"M120.922 359.83 L125.807 359.83 L125.807 365.71 L120.922 365.71 L120.922 359.83 Z\" fill=\"#000000\" fill-rule=\"nonzero\" fill-opacity=\"1\" /><path clip-path=\"url(#clip400)\" d=\"M145.992 334.229 Q142.381 334.229 140.552 337.793 Q138.746 341.335 138.746 348.465 Q138.746 355.571 140.552 359.136 Q142.381 362.677 145.992 362.677 Q149.626 362.677 151.431 359.136 Q153.26 355.571 153.26 348.465 Q153.26 341.335 151.431 337.793 Q149.626 334.229 145.992 334.229 M145.992 330.525 Q151.802 330.525 154.857 335.131 Q157.936 339.715 157.936 348.465 Q157.936 357.191 154.857 361.798 Q151.802 366.381 145.992 366.381 Q140.181 366.381 137.103 361.798 Q134.047 357.191 134.047 348.465 Q134.047 339.715 137.103 335.131 Q140.181 330.525 145.992 330.525 Z\" fill=\"#000000\" fill-rule=\"nonzero\" fill-opacity=\"1\" /><path clip-path=\"url(#clip400)\" d=\"M92.566 150.271 L100.205 150.271 L100.205 123.905 L91.8947 125.572 L91.8947 121.312 L100.159 119.646 L104.834 119.646 L104.834 150.271 L112.473 150.271 L112.473 154.206 L92.566 154.206 L92.566 150.271 Z\" fill=\"#000000\" fill-rule=\"nonzero\" fill-opacity=\"1\" /><path clip-path=\"url(#clip400)\" d=\"M121.918 148.326 L126.802 148.326 L126.802 154.206 L121.918 154.206 L121.918 148.326 Z\" fill=\"#000000\" fill-rule=\"nonzero\" fill-opacity=\"1\" /><path clip-path=\"url(#clip400)\" d=\"M137.033 119.646 L155.39 119.646 L155.39 123.581 L141.316 123.581 L141.316 132.053 Q142.334 131.706 143.353 131.544 Q144.371 131.359 145.39 131.359 Q151.177 131.359 154.556 134.53 Q157.936 137.701 157.936 143.118 Q157.936 148.697 154.464 151.798 Q150.992 154.877 144.672 154.877 Q142.496 154.877 140.228 154.507 Q137.982 154.136 135.575 153.396 L135.575 148.697 Q137.658 149.831 139.881 150.386 Q142.103 150.942 144.58 150.942 Q148.584 150.942 150.922 148.835 Q153.26 146.729 153.26 143.118 Q153.26 139.507 150.922 137.4 Q148.584 135.294 144.58 135.294 Q142.705 135.294 140.83 135.711 Q138.978 136.127 137.033 137.007 L137.033 119.646 Z\" fill=\"#000000\" fill-rule=\"nonzero\" fill-opacity=\"1\" /><circle clip-path=\"url(#clip402)\" cx=\"1617.84\" cy=\"670.353\" r=\"14.4\" fill=\"#009af9\" fill-rule=\"evenodd\" fill-opacity=\"1\" stroke=\"#000000\" stroke-opacity=\"1\" stroke-width=\"3.2\"/>\n",
       "<circle clip-path=\"url(#clip402)\" cx=\"1669.78\" cy=\"1261.74\" r=\"14.4\" fill=\"#009af9\" fill-rule=\"evenodd\" fill-opacity=\"1\" stroke=\"#000000\" stroke-opacity=\"1\" stroke-width=\"3.2\"/>\n",
       "<circle clip-path=\"url(#clip402)\" cx=\"920.648\" cy=\"1445.72\" r=\"14.4\" fill=\"#009af9\" fill-rule=\"evenodd\" fill-opacity=\"1\" stroke=\"#000000\" stroke-opacity=\"1\" stroke-width=\"3.2\"/>\n",
       "<circle clip-path=\"url(#clip402)\" cx=\"326.124\" cy=\"1022.63\" r=\"14.4\" fill=\"#009af9\" fill-rule=\"evenodd\" fill-opacity=\"1\" stroke=\"#000000\" stroke-opacity=\"1\" stroke-width=\"3.2\"/>\n",
       "<circle clip-path=\"url(#clip402)\" cx=\"1566.69\" cy=\"87.9763\" r=\"14.4\" fill=\"#009af9\" fill-rule=\"evenodd\" fill-opacity=\"1\" stroke=\"#000000\" stroke-opacity=\"1\" stroke-width=\"3.2\"/>\n",
       "<circle clip-path=\"url(#clip402)\" cx=\"2291.66\" cy=\"436.239\" r=\"14.4\" fill=\"#009af9\" fill-rule=\"evenodd\" fill-opacity=\"1\" stroke=\"#000000\" stroke-opacity=\"1\" stroke-width=\"3.2\"/>\n",
       "<circle clip-path=\"url(#clip402)\" cx=\"2274.66\" cy=\"1015.36\" r=\"14.4\" fill=\"#009af9\" fill-rule=\"evenodd\" fill-opacity=\"1\" stroke=\"#000000\" stroke-opacity=\"1\" stroke-width=\"3.2\"/>\n",
       "<circle clip-path=\"url(#clip402)\" cx=\"255.035\" cy=\"520.804\" r=\"14.4\" fill=\"#009af9\" fill-rule=\"evenodd\" fill-opacity=\"1\" stroke=\"#000000\" stroke-opacity=\"1\" stroke-width=\"3.2\"/>\n",
       "<circle clip-path=\"url(#clip402)\" cx=\"1046.2\" cy=\"937.585\" r=\"14.4\" fill=\"#009af9\" fill-rule=\"evenodd\" fill-opacity=\"1\" stroke=\"#000000\" stroke-opacity=\"1\" stroke-width=\"3.2\"/>\n",
       "<circle clip-path=\"url(#clip402)\" cx=\"962.254\" cy=\"371.195\" r=\"14.4\" fill=\"#009af9\" fill-rule=\"evenodd\" fill-opacity=\"1\" stroke=\"#000000\" stroke-opacity=\"1\" stroke-width=\"3.2\"/>\n",
       "</svg>\n"
      ]
     },
     "metadata": {},
     "output_type": "display_data"
    }
   ],
   "source": [
    "g1 = [x_test[i][1] for i=1:size(x_test)[1]]\n",
    "g2 = [x_test[i][2] for i=1:size(x_test)[1]]\n",
    "scatter(g1,g2,legend=false)\n"
   ]
  },
  {
   "cell_type": "code",
   "execution_count": null,
   "metadata": {},
   "outputs": [],
   "source": [
    "\n",
    "main()\n",
    "\n",
    "\n",
    "#z = sum(x[i].^2)\n",
    "z = zeros(Float64, n)\n",
    "\n",
    "for i =1:n\n",
    "    z[i] = sqrt( sum(x[i].^2) )\n",
    "end\n",
    "\n",
    "histogram(z)\n",
    "\n",
    "\n",
    "g1 = [x[i][1] for i=1:size(x)[1]]\n",
    "g2 = [x[i][2] for i=1:size(x)[1]]\n",
    "\n",
    "\n",
    "scatter(g1,g2)"
   ]
  }
 ],
 "metadata": {
  "kernelspec": {
   "display_name": "Julia 1.9.0",
   "language": "julia",
   "name": "julia-1.9"
  },
  "language_info": {
   "file_extension": ".jl",
   "mimetype": "application/julia",
   "name": "julia",
   "version": "1.9.0"
  },
  "orig_nbformat": 4
 },
 "nbformat": 4,
 "nbformat_minor": 2
}
